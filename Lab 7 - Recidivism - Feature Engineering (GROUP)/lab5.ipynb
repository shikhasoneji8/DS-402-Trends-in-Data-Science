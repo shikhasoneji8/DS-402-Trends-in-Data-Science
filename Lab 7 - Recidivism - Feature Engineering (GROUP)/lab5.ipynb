{
  "cells": [
    {
      "cell_type": "markdown",
      "metadata": {
        "id": "t7GqfkMK1d8F"
      },
      "source": [
        "## 1. Pre-task: Data Preparation\n",
        "\n",
        "\n"
      ]
    },
    {
      "cell_type": "markdown",
      "source": [
        "### Import Dataset\n",
        "* Please create a data folder and put the compas-scores-two-years.csv in to data.\n",
        "\n",
        "* Import the COMPAS dataset as the following codes do:"
      ],
      "metadata": {
        "id": "C0EW93kH9bTG"
      }
    },
    {
      "cell_type": "code",
      "execution_count": null,
      "metadata": {
        "colab": {
          "base_uri": "https://localhost:8080/"
        },
        "id": "fjoou1qP1d8I",
        "outputId": "0b50ed52-57a9-4db2-a3d5-2d94da6ccdc6"
      },
      "outputs": [
        {
          "output_type": "stream",
          "name": "stdout",
          "text": [
            "(7214, 52)  first element is data instances (rows in the CSV), second is features (columns in the CSV)\n"
          ]
        }
      ],
      "source": [
        "import pandas as pd\n",
        "\n",
        "# Turn off an annoying warning that crops up a bunch\n",
        "pd.options.mode.chained_assignment = None  # default='warn'\n",
        "\n",
        "DATA_FOLDER = 'data/'\n",
        "\n",
        "df = pd.read_csv(\n",
        "    DATA_FOLDER + 'compas-scores-two-years.csv',\n",
        "    index_col=0)\n",
        "\n",
        "print(df.shape, \" first element is data instances (rows in the CSV), second is features (columns in the CSV)\")"
      ]
    },
    {
      "cell_type": "markdown",
      "metadata": {
        "id": "vkXdnrrG1d8L"
      },
      "source": [
        "### Apply preprocessing on data features\n",
        "However not all of the rows are useable for the first round of analysis.\n",
        "\n",
        "**From the ProPublica notebook**: There are a number of reasons remove rows because of missing data:\n",
        "* If the charge date of a defendants Compas scored crime was not within 30 days from when the person was arrested, we assume that because of data quality reasons, that we do not have the right offense.\n",
        "* We coded the recidivist flag -- `is_recid` -- to be -1 if we could not find a compas case at all.\n",
        "* In a similar vein, ordinary traffic offenses -- those with a `c_charge_degree` of 'O' -- will not result in Jail time are removed (only two of them).\n",
        "* We filtered the underlying data from Broward county to include only those rows representing people who had either recidivated in two years, or had at least two years outside of a correctional facility."
      ]
    },
    {
      "cell_type": "code",
      "execution_count": null,
      "metadata": {
        "id": "APOT_Leo1d8M",
        "colab": {
          "base_uri": "https://localhost:8080/"
        },
        "outputId": "98d26e61-888b-4ed3-84bc-24808f6005e8"
      },
      "outputs": [
        {
          "output_type": "execute_result",
          "data": {
            "text/plain": [
              "['name',\n",
              " 'first',\n",
              " 'last',\n",
              " 'compas_screening_date',\n",
              " 'sex',\n",
              " 'dob',\n",
              " 'age',\n",
              " 'age_cat',\n",
              " 'race',\n",
              " 'juv_fel_count',\n",
              " 'decile_score',\n",
              " 'juv_misd_count',\n",
              " 'juv_other_count',\n",
              " 'priors_count',\n",
              " 'days_b_screening_arrest',\n",
              " 'c_jail_in',\n",
              " 'c_jail_out',\n",
              " 'c_case_number',\n",
              " 'c_offense_date',\n",
              " 'c_arrest_date',\n",
              " 'c_days_from_compas',\n",
              " 'c_charge_degree',\n",
              " 'c_charge_desc',\n",
              " 'is_recid',\n",
              " 'r_case_number',\n",
              " 'r_charge_degree',\n",
              " 'r_days_from_arrest',\n",
              " 'r_offense_date',\n",
              " 'r_charge_desc',\n",
              " 'r_jail_in',\n",
              " 'r_jail_out',\n",
              " 'violent_recid',\n",
              " 'is_violent_recid',\n",
              " 'vr_case_number',\n",
              " 'vr_charge_degree',\n",
              " 'vr_offense_date',\n",
              " 'vr_charge_desc',\n",
              " 'type_of_assessment',\n",
              " 'decile_score.1',\n",
              " 'score_text',\n",
              " 'screening_date',\n",
              " 'v_type_of_assessment',\n",
              " 'v_decile_score',\n",
              " 'v_score_text',\n",
              " 'v_screening_date',\n",
              " 'in_custody',\n",
              " 'out_custody',\n",
              " 'priors_count.1',\n",
              " 'start',\n",
              " 'end',\n",
              " 'event',\n",
              " 'two_year_recid',\n",
              " 'length_of_stay']"
            ]
          },
          "metadata": {},
          "execution_count": 18
        }
      ],
      "source": [
        "# df = df[['age', 'c_charge_degree', 'race', 'age_cat', 'score_text', 'sex', 'priors_count',\n",
        "#                     'days_b_screening_arrest', 'decile_score', 'is_recid', 'two_year_recid', 'c_jail_in', 'c_jail_out']]\n",
        "ix = df['days_b_screening_arrest'] <= 30\n",
        "ix = (df['days_b_screening_arrest'] >= -30) & ix\n",
        "ix = (df['is_recid'] != -1) & ix\n",
        "ix = (df['c_charge_degree'] != \"O\") & ix\n",
        "ix = (df['score_text'] != 'N/A') & ix\n",
        "df = df.loc[ix,:]\n",
        "df['length_of_stay'] = (pd.to_datetime(df['c_jail_out'])-pd.to_datetime(df['c_jail_in'])).apply(lambda x: x.days)\n",
        "list(df)"
      ]
    },
    {
      "cell_type": "markdown",
      "metadata": {
        "id": "Xbz_Nopd1d8S"
      },
      "source": [
        "Drop Asian, Native American due to lack of samples"
      ]
    },
    {
      "cell_type": "code",
      "execution_count": null,
      "metadata": {
        "id": "WahT0sqd1d8S"
      },
      "outputs": [],
      "source": [
        "dfcut = df.loc[~df['race'].isin(['Native American','Hispanic','Asian','Other']),:]"
      ]
    },
    {
      "cell_type": "markdown",
      "source": [
        "## Task 2. Exploration in Feature Engineering\n",
        "Please investigate Feature Categorization and investigation on fairness to answer the following questions:\n",
        "\n",
        "A. **[Team, TURN THIS IN]** Pick a feature that we dropped from the model in the cell titled \"Feature Categorization\" to re-incorporate. The original set is in the cell previous. You may want to briefly consult this paper by Grgic-HlacaLinks. The original spreadsheet (compas-scores-two-years) might also help you interpret what the semantics of the features are.\n",
        "\n",
        "B. **[Team, TURN THIS IN]** Why did you pick the chosen feature?\n",
        "\n",
        "C. **[Team,  TURN THIS IN]** How might including the chosen feature help and/or harm a future model in terms of accuracy, fairness, etc?\n"
      ],
      "metadata": {
        "id": "484l8HXktyyv"
      }
    },
    {
      "cell_type": "markdown",
      "source": [
        "**About the cell of Feature Catergorization**: This next cell reflects a process of elimination on the features by checking their contents. It seems any string that starts with \"r\" or \"vr\" is some parameter about the recidivism charges, while \"c\" is about their first charges.  Thus, \"r\" are all implicitly outcome variables, and would be relevant if we were doing a more complicated prediction task (i.e. if they recidivate, WHEN, for WHAT, etc)."
      ],
      "metadata": {
        "id": "fCrSFecBbp0P"
      }
    },
    {
      "cell_type": "code",
      "source": [
        "#@title Feature Categorization\n",
        "# Extracting the target variable (label) 'is_recid' from the original dataframe.\n",
        "labelsDF = dfcut['is_recid']\n",
        "\n",
        "# Specifying a list of columns that represent different outcomes, scores, risk predictions, and related information.\n",
        "outcomeStrings = ['is_recid', 'two_year_recid', 'violent_recid', 'is_violent_recid', # labels (target variables for different tasks)\n",
        "                  'decile_score', 'decile_score.1', 'score_text', 'v_decile_score', 'v_score_text', # scores generated by some model or system\n",
        "                  'v_type_of_assessment', 'type_of_assessment', # type of risk assessments\n",
        "                  'r_days_from_arrest', 'r_jail_in', 'r_jail_out', # timing-related parameters for when someone was jailed\n",
        "                  'r_charge_degree', 'r_charge_desc', # information about the recent charge\n",
        "                  'vr_case_number', 'vr_charge_degree', 'vr_offense_date', 'vr_charge_desc' # details of violent recidivism cases\n",
        "                 ]\n",
        "\n",
        "# Removing the columns in the 'outcomeStrings' list from the original dataframe to get only the feature columns.\n",
        "featuresDF = dfcut.drop(outcomeStrings, axis=1)\n",
        "\n",
        "# Specifying a list of columns that are not deemed useful for predictive modeling.\n",
        "# Removing the columns deemed non-informative.\n",
        "worthlessStrings = ['name', 'first','last', 'c_case_number', 'r_case_number', # record-keeping columns related to individuals\n",
        "                    'compas_screening_date', 'c_offense_date', 'r_offense_date', # dates related to offenses and screenings\n",
        "                    'c_arrest_date', 'screening_date', 'v_screening_date', # additional dates\n",
        "                    'days_b_screening_arrest', 'c_days_from_compas', # time intervals\n",
        "                    'c_jail_in', 'c_jail_out', 'in_custody', 'out_custody', 'length_of_stay', # jail entry and exit details\n",
        "                    'start', 'end', 'event', # unclear columns that are labeled as unintelligible\n",
        "                    'c_charge_desc' # descriptions of charges which have too many unique values to be useful directly\n",
        "                   ]\n",
        "featuresDF = featuresDF.drop(worthlessStrings, axis=1)\n",
        "\n",
        "# Removing the redundant columns.\n",
        "redundantStrings = ['dob', 'age_cat', # 'dob' (date of birth) and 'age_cat' (age category) are redundant as 'age' might already capture the age information.\n",
        "                    'priors_count.1', # this seems to be a duplicate or similar column to 'priors_count'.\n",
        "                   ]\n",
        "featuresDF = featuresDF.drop(redundantStrings, axis=1)\n",
        "\n",
        "juvenileStrings = ['juv_fel_count', 'juv_misd_count', 'juv_other_count']\n",
        "featuresDF['juv_priors'] = featuresDF.apply(lambda row: row.juv_fel_count + row.juv_misd_count + row.juv_other_count, axis=1)\n",
        "\n",
        "# Printing the columns of the feature dataframe after all the transformations.\n",
        "print(list(featuresDF))\n"
      ],
      "metadata": {
        "colab": {
          "base_uri": "https://localhost:8080/"
        },
        "id": "hgQVrUrabqti",
        "outputId": "78d28f0f-3150-4319-f02f-96680b961a7a"
      },
      "execution_count": null,
      "outputs": [
        {
          "output_type": "stream",
          "name": "stdout",
          "text": [
            "['sex', 'age', 'race', 'juv_fel_count', 'juv_misd_count', 'juv_other_count', 'priors_count', 'c_charge_degree', 'juv_priors']\n"
          ]
        }
      ]
    },
    {
      "cell_type": "markdown",
      "metadata": {
        "id": "A4VIVnHf1d8O"
      },
      "source": [
        "### Investigation of Fairness\n",
        "\n",
        "Out of interest, plot distribution of COMPAS scores (matches the one in the ProPublica article)."
      ]
    },
    {
      "cell_type": "code",
      "execution_count": null,
      "metadata": {
        "colab": {
          "base_uri": "https://localhost:8080/",
          "height": 479
        },
        "id": "zGCOQlvs1d8O",
        "outputId": "d2d5e809-b2b6-416a-c304-b0ce9c113134"
      },
      "outputs": [
        {
          "output_type": "execute_result",
          "data": {
            "text/plain": [
              "(0.5, 10.5)"
            ]
          },
          "metadata": {},
          "execution_count": 21
        },
        {
          "output_type": "display_data",
          "data": {
            "text/plain": [
              "<Figure size 1500x500 with 2 Axes>"
            ],
            "image/png": "[encoded data removed]"
          },
          "metadata": {}
        }
      ],
      "source": [
        "df2 = df.loc[df['race'].isin(['African-American','Caucasian']),['race','decile_score']]\n",
        "ax = df2.hist(column='decile_score',by='race',figsize=(15,5),**{'density':False}) # MODIFICATION from JED, was 'normed', but that is deprecated. Now 'density'\n",
        "ax[0].set_ylim([0,650])\n",
        "ax[1].set_ylim([0,650])\n",
        "ax[0].set_xlim([.5,10.5])\n",
        "ax[1].set_xlim([.5,10.5])"
      ]
    },
    {
      "cell_type": "markdown",
      "source": [
        "In order to inform the quantization, make histograms of the individuals that remain after the initial filtering"
      ],
      "metadata": {
        "id": "A6zF474sbwaL"
      }
    },
    {
      "cell_type": "code",
      "source": [
        "ax = featuresDF.hist(column='age',by='race',figsize=(15,5),**{'density':False}) # MODIFICATION from JED, was 'normed', but that is deprecated. Now 'density'\n",
        "ax[0].set_ylim([0,1000])\n",
        "ax[1].set_ylim([0,1000])\n",
        "ax[0].set_xlim([18,80.1])\n",
        "ax[1].set_xlim([18,80.1])"
      ],
      "metadata": {
        "colab": {
          "base_uri": "https://localhost:8080/",
          "height": 479
        },
        "id": "Q734fRU6bzbG",
        "outputId": "d4c31a7d-5761-4f8a-ac8c-d79536ae5e01"
      },
      "execution_count": null,
      "outputs": [
        {
          "output_type": "execute_result",
          "data": {
            "text/plain": [
              "(18.0, 80.1)"
            ]
          },
          "metadata": {},
          "execution_count": 22
        },
        {
          "output_type": "display_data",
          "data": {
            "text/plain": [
              "<Figure size 1500x500 with 2 Axes>"
            ],
            "image/png": "[encoded data removed]"
          },
          "metadata": {}
        }
      ]
    },
    {
      "cell_type": "code",
      "source": [
        "ax = featuresDF.hist(column='priors_count',by='race',figsize=(15,5),**{'density':False}) # MODIFICATION from JED, was 'normed', but that is deprecated. Now 'density'\n",
        "ax[0].set_ylim([0,1000])\n",
        "ax[1].set_ylim([0,1000])\n",
        "ax[0].set_xlim([1,30.1])\n",
        "ax[1].set_xlim([1,30.5])"
      ],
      "metadata": {
        "colab": {
          "base_uri": "https://localhost:8080/",
          "height": 479
        },
        "id": "qtCByeJRcFse",
        "outputId": "ae159535-b90f-42ba-b253-d8be96776fdc"
      },
      "execution_count": null,
      "outputs": [
        {
          "output_type": "execute_result",
          "data": {
            "text/plain": [
              "(1.0, 30.5)"
            ]
          },
          "metadata": {},
          "execution_count": 23
        },
        {
          "output_type": "display_data",
          "data": {
            "text/plain": [
              "<Figure size 1500x500 with 2 Axes>"
            ],
            "image/png": "[encoded data removed]"
          },
          "metadata": {}
        }
      ]
    },
    {
      "cell_type": "code",
      "source": [
        "ax = featuresDF.hist(column='juv_priors',by='race',figsize=(15,5),**{'density':False}) # MODIFICATION from JED, was 'normed', but that is deprecated. Now 'density'\n",
        "ax[0].set_ylim([0,200])\n",
        "ax[1].set_ylim([0,200])\n",
        "ax[0].set_xlim([1,15.1])\n",
        "ax[1].set_xlim([1,15.5])"
      ],
      "metadata": {
        "colab": {
          "base_uri": "https://localhost:8080/",
          "height": 479
        },
        "id": "F_-DXoDAcJmH",
        "outputId": "9203643a-762c-4ccd-c666-fd3eed9afa71"
      },
      "execution_count": null,
      "outputs": [
        {
          "output_type": "execute_result",
          "data": {
            "text/plain": [
              "(1.0, 15.5)"
            ]
          },
          "metadata": {},
          "execution_count": 24
        },
        {
          "output_type": "display_data",
          "data": {
            "text/plain": [
              "<Figure size 1500x500 with 2 Axes>"
            ],
            "image/png": "[encoded data removed]"
          },
          "metadata": {}
        }
      ]
    },
    {
      "cell_type": "markdown",
      "source": [
        "This is some code to help automate the feature selection process, but process of elimination seemed to do the job on this data set!"
      ],
      "metadata": {
        "id": "NpF5OKR7ceRA"
      }
    },
    {
      "cell_type": "markdown",
      "source": [
        "## Task 3: Understanding the Feature Coefficients:\n",
        "Run the code in cell of **Feature Coefficient**, then answer the following question\n",
        "\n",
        "A. **[Team, TURN THIS IN]** Inspect the feature coefficients of this model found in the cell titled \"Feature Coefficients\" in the preparation notebook. Which features are predictive of which outcomes and how strongly?"
      ],
      "metadata": {
        "id": "aYiItxXW0ju4"
      }
    },
    {
      "cell_type": "markdown",
      "source": [
        "**Logistic Regression Feature Coefficients**: In logistic regression, the probability of the positive class is represented as:\n",
        "\n",
        "$$P(Y=1|X) = 1 / (1 + e^-(β_0 + β_1*X_1 + ... + β_n*X_n))$$\n",
        "\n",
        "Each coefficient, $β_i$, indicates the change in log odds of $Y=1$ for a one-unit change in $X_i$.\n",
        "- If $β_i$ is positive: An increase in $X_i$ leads to higher odds of $Y=1$.\n",
        "- If $β_i$ is negative: An increase in $X_i$ leads to lower odds of $Y=1$.\n"
      ],
      "metadata": {
        "id": "LxNrrEUZ2xK1"
      }
    },
    {
      "cell_type": "code",
      "source": [
        "#@title Feature Coefficients\n",
        "\n",
        "from sklearn.linear_model import LogisticRegression\n",
        "\n",
        "# Step 1: Dummy Variable Creation\n",
        "inputDummies = pd.get_dummies(featuresDF)\n",
        "print(inputDummies.shape)\n",
        "print()\n",
        "\n",
        "# Step 2: Logistic Regression Model Training\n",
        "# FIXME this part should happen above the call to get_dummies, but strings need to get removed\n",
        "logistic = LogisticRegression()\n",
        "logistic = logistic.fit(inputDummies, labelsDF.values.ravel())\n",
        "\n",
        "from sklearn.feature_selection import SelectFromModel\n",
        "selection = SelectFromModel(logistic, prefit=True)\n",
        "RFE = selection.transform(inputDummies)\n",
        "support = selection.get_support()\n",
        "labels = list(inputDummies)\n",
        "\n",
        "# Step 3: Displaying Feature Coefficients\n",
        "for i in range(0,len(support)):\n",
        "    print(labels[i], \"\\t\", logistic.coef_[0][i])"
      ],
      "metadata": {
        "colab": {
          "base_uri": "https://localhost:8080/"
        },
        "id": "ep0MCMTace6O",
        "outputId": "5ae38be1-76b9-4e27-ec0f-82fb19934163"
      },
      "execution_count": null,
      "outputs": [
        {
          "output_type": "stream",
          "name": "stdout",
          "text": [
            "(5278, 12)\n",
            "\n",
            "age \t -0.043051744941740556\n",
            "juv_fel_count \t -0.003140390233155686\n",
            "juv_misd_count \t -0.12630289615120266\n",
            "juv_other_count \t 0.2297709663979623\n",
            "priors_count \t 0.16456151265724261\n",
            "juv_priors \t 0.10032768001360202\n",
            "sex_Female \t -0.043310556693081426\n",
            "sex_Male \t 0.34562254643741447\n",
            "race_African-American \t 0.20395021495962837\n",
            "race_Caucasian \t 0.09836177478471063\n",
            "c_charge_degree_F \t 0.22675824530298666\n",
            "c_charge_degree_M \t 0.07555374444135426\n"
          ]
        },
        {
          "output_type": "stream",
          "name": "stderr",
          "text": [
            "/usr/local/lib/python3.10/dist-packages/sklearn/base.py:432: UserWarning: X has feature names, but SelectFromModel was fitted without feature names\n",
            "  warnings.warn(\n"
          ]
        }
      ]
    },
    {
      "cell_type": "code",
      "source": [
        "featuresDF['juv_priors'].corr(featuresDF['priors_count'])"
      ],
      "metadata": {
        "colab": {
          "base_uri": "https://localhost:8080/"
        },
        "id": "tHGIbIT8cm-z",
        "outputId": "9e1cf200-04a2-490c-daac-000e4e2c8ae9"
      },
      "execution_count": null,
      "outputs": [
        {
          "output_type": "execute_result",
          "data": {
            "text/plain": [
              "0.294305972121295"
            ]
          },
          "metadata": {},
          "execution_count": 26
        }
      ]
    },
    {
      "cell_type": "markdown",
      "source": [
        "So now we have a rough idea of what features we want to include, so next we combine a few features, then filter."
      ],
      "metadata": {
        "id": "-IIwkc4bcpeN"
      }
    },
    {
      "cell_type": "markdown",
      "metadata": {
        "id": "hbJ6iB8e1d8S"
      },
      "source": [
        "Combine juvenile priors"
      ]
    },
    {
      "cell_type": "code",
      "execution_count": null,
      "metadata": {
        "id": "LKT2C1_D1d8S"
      },
      "outputs": [],
      "source": [
        "juvenileStrings = ['juv_fel_count', 'juv_misd_count', 'juv_other_count']\n",
        "dfcut['juvenile priors'] = dfcut.apply(lambda row: row.juv_fel_count + row.juv_misd_count + row.juv_other_count, axis=1)\n",
        "\n"
      ]
    },
    {
      "cell_type": "markdown",
      "metadata": {
        "id": "3Ff0cYMP1d8T"
      },
      "source": [
        "Rename charge degree and priors"
      ]
    },
    {
      "cell_type": "code",
      "execution_count": null,
      "metadata": {
        "id": "Gvgpvept1d8U"
      },
      "outputs": [],
      "source": [
        "dfcut['charge degree'] = dfcut['c_charge_degree']\n",
        "dfcut['prior convictions'] = dfcut['priors_count']"
      ]
    },
    {
      "cell_type": "markdown",
      "metadata": {
        "id": "EjnTFaA01d8U"
      },
      "source": [
        "Define features by setting discriminatory features (`D_features`), binary response variable (`Y_features`) and decision features (`X_features`)."
      ]
    },
    {
      "cell_type": "code",
      "execution_count": null,
      "metadata": {
        "id": "Md0Z1SxI1d8V"
      },
      "outputs": [],
      "source": [
        "D_features = ['race']\n",
        "Y_features = ['is_recid']\n",
        "X_features = ['age', 'charge degree','prior convictions', 'juvenile priors']\n",
        "\n",
        "features = D_features + X_features + Y_features"
      ]
    },
    {
      "cell_type": "markdown",
      "metadata": {
        "id": "Er8GjGci1d8X"
      },
      "source": [
        "Now we quantize the dataframe for the ordinal data that we care about (age, priors, and juvenile priors)"
      ]
    },
    {
      "cell_type": "code",
      "execution_count": null,
      "metadata": {
        "id": "eh4LdI3e1d8X"
      },
      "outputs": [],
      "source": [
        "def quantizePriors(x):\n",
        "    if x <1:\n",
        "        return 'None'\n",
        "    elif x < 4:\n",
        "        return '1-3'\n",
        "    elif x < 7:\n",
        "        return '4-6'\n",
        "    elif x < 11:\n",
        "        return '7-10'\n",
        "    else:\n",
        "        return '>10'\n",
        "\n",
        "def quantizeJuvenilePriors(x):\n",
        "    if x <1:\n",
        "        return 'No'\n",
        "    else:\n",
        "        return 'Yes'\n",
        "\n",
        "def quantizeAge(x):\n",
        "    if x < 30:\n",
        "        return '18-29'\n",
        "    elif x < 40:\n",
        "        return '30-39'\n",
        "    elif x < 50:\n",
        "        return '40-49'\n",
        "    elif x < 60:\n",
        "        return '50-59'\n",
        "    else:\n",
        "        return '>59'\n",
        "\n",
        "def lengthenChargeDeg(x):\n",
        "    if x == 'F':\n",
        "        return 'Felony'\n",
        "    if x == 'M':\n",
        "        return 'Misdemeanor'\n",
        "\n",
        "dfcutQ = dfcut\n",
        "dfcutQ['age'] = dfcutQ['age'].apply(quantizeAge)\n",
        "dfcutQ['juvenile priors'] = dfcutQ['juvenile priors'].apply(quantizeJuvenilePriors)\n",
        "dfcutQ['prior convictions'] = dfcutQ['prior convictions'].apply(quantizePriors)\n",
        "dfcutQ['charge degree'] = dfcutQ['charge degree'].apply(lengthenChargeDeg)"
      ]
    },
    {
      "cell_type": "markdown",
      "metadata": {
        "id": "VJIJWgAo1d8Y"
      },
      "source": [
        "Now, our dataframe is composed of:\n",
        "- 'age' (ordinal)\n",
        "- 'race' (dichotomous)\n",
        "- 'juvenile priors' (dichotomous)\n",
        "- 'prior convictions' (ordinal)\n",
        "- 'charge degree' (dichotomous)\n",
        "- 'is_recid' (dichotomous) ---- Output variable"
      ]
    },
    {
      "cell_type": "code",
      "execution_count": null,
      "metadata": {
        "colab": {
          "base_uri": "https://localhost:8080/"
        },
        "id": "e9CTV-sC1d8Y",
        "outputId": "a149990b-6bd0-4bfe-b134-78752aa21b71"
      },
      "outputs": [
        {
          "output_type": "stream",
          "name": "stdout",
          "text": [
            "(5278, 6)\n",
            "                   race    age charge degree prior convictions  \\\n",
            "id                                                               \n",
            "3      African-American  30-39        Felony              None   \n",
            "4      African-American  18-29        Felony               4-6   \n",
            "8             Caucasian  40-49        Felony               >10   \n",
            "10            Caucasian  30-39   Misdemeanor              None   \n",
            "14            Caucasian  18-29        Felony              None   \n",
            "...                 ...    ...           ...               ...   \n",
            "10994  African-American  30-39   Misdemeanor              None   \n",
            "10995  African-American  18-29        Felony              None   \n",
            "10996  African-American  18-29        Felony              None   \n",
            "10997  African-American  18-29        Felony              None   \n",
            "11000  African-American  30-39   Misdemeanor               1-3   \n",
            "\n",
            "      juvenile priors  is_recid  \n",
            "id                               \n",
            "3                  No         1  \n",
            "4                 Yes         1  \n",
            "8                  No         1  \n",
            "10                 No         0  \n",
            "14                 No         0  \n",
            "...               ...       ...  \n",
            "10994              No         1  \n",
            "10995              No         0  \n",
            "10996              No         0  \n",
            "10997              No         0  \n",
            "11000              No         0  \n",
            "\n",
            "[5278 rows x 6 columns]\n"
          ]
        }
      ],
      "source": [
        "df = dfcutQ[features].copy()\n",
        "print(df.shape)\n",
        "print(df)"
      ]
    },
    {
      "cell_type": "markdown",
      "source": [
        "## Task 4: Debiasing Data Transformation\n",
        "\n",
        "A. **[Team, TURN THIS IN]** Clearly describe ONE modification to the distortion function in the next cell (you can search \"getDistortion\") that you think might help the a future model to achieve higher accuracy or \"better\" fairness (your modification may be very simple)\n",
        "\n",
        "B. **[Team, TURN THIS IN]** Why do you think this modification might help as described?\n",
        "\n",
        "C. **[Each, TURN THIS IN]** In what ways and to what extent do you think this dataset is biased?\n",
        "\n",
        "D. **[Each, TURN THIS IN]** Which pieces of evidence do you find most compelling in reaching the judgment you did in the previous question?\n",
        "\n",
        "E. **[Each, TURN THIS IN]** Why are those pieces of evidence the most compelling to you?"
      ],
      "metadata": {
        "id": "cbBclpDA-_GI"
      }
    },
    {
      "cell_type": "markdown",
      "metadata": {
        "id": "qgnOIqvh1d8b"
      },
      "source": [
        "Now we set the distortion metric. This function will receive the two dictionary of features X and Y corresponding to the new and old values, and return a distortion value."
      ]
    },
    {
      "cell_type": "code",
      "execution_count": null,
      "metadata": {
        "id": "5rs59GG01d8b"
      },
      "outputs": [],
      "source": [
        "class Dclass():\n",
        "\n",
        "    def categoryPriors(self, x):\n",
        "        if x == 'None':\n",
        "            return 0\n",
        "        elif x == '1-3':\n",
        "            return 1\n",
        "        elif x == '4-6':\n",
        "            return 2\n",
        "        elif x == '7-10':\n",
        "            return 3\n",
        "        else:\n",
        "            return 4\n",
        "\n",
        "    def categoryJuvenilePriors(self, x):\n",
        "        if x == 'No':\n",
        "            return 0\n",
        "        else:\n",
        "            return 1\n",
        "\n",
        "    def categoryAge(self, x):\n",
        "        if x == '18-29':\n",
        "            return 0\n",
        "        elif x == '30-39':\n",
        "            return 1\n",
        "        elif x == '40-49':\n",
        "            return 2\n",
        "        elif x == '50-59':\n",
        "            return 3\n",
        "        else:\n",
        "            return 4\n",
        "\n",
        "    # distortion metric\n",
        "    def getDistortion(self,vold,vnew):\n",
        "        '''\n",
        "        Distortion metric.\n",
        "\n",
        "        Inputs:\n",
        "        *vold : dictionary of the form {attr:value} with old values\n",
        "        *vnew : dictionary of the form {attr:value} with new values\n",
        "\n",
        "        Output\n",
        "        *d : distortion value\n",
        "        '''\n",
        "\n",
        "        # value that will be returned for events that should not occur\n",
        "        bad_val = 1e4\n",
        "\n",
        "        # penalty accumulator variable\n",
        "        cum_sum = 0.0\n",
        "\n",
        "        # check each feature's transformation penalty\n",
        "\n",
        "\n",
        "        # Penalize recidivism adjustments (sharply!)\n",
        "        if vold['is_recid'] != vnew['is_recid']:\n",
        "            cum_sum = cum_sum + 4.0\n",
        "\n",
        "        # Penalize age adjustments\n",
        "        aOld = self.categoryAge(vold['age'])\n",
        "        aNew = self.categoryAge(vnew['age'])\n",
        "        aDiff = np.abs(aOld - aNew)\n",
        "\n",
        "        # Age cannot be increased or decreased in more than one category\n",
        "        if aDiff > 1.0:\n",
        "            return bad_val\n",
        "\n",
        "        # Penalty of 1 if age is decreased or increased\n",
        "        if aDiff > 0:\n",
        "            cum_sum = cum_sum + 1.0\n",
        "\n",
        "        # Penalize priors adjustments\n",
        "        pOld = self.categoryPriors(vold['prior convictions'])\n",
        "        pNew = self.categoryPriors(vnew['prior convictions'])\n",
        "        pDiff = np.abs(pOld - pNew)\n",
        "\n",
        "        # Priors cannot be changed by more than 1 category.\n",
        "        if pDiff > 1.0:\n",
        "            return bad_val\n",
        "\n",
        "        # Penalty of 1 if priors is decreased or increased\n",
        "        if pDiff > 0:\n",
        "            cum_sum = cum_sum+1\n",
        "\n",
        "        # Penalize juvenile priors adjustments\n",
        "        jpOld = self.categoryPriors(vold['juvenile priors'])\n",
        "        jpNew = self.categoryPriors(vnew['juvenile priors'])\n",
        "        jpDiff = np.abs(jpOld - jpNew)\n",
        "\n",
        "        # Priors cannot be changed by more than 1 category.\n",
        "        if jpDiff > 1.0:\n",
        "            return bad_val\n",
        "\n",
        "        # Penalty of .5 if priors is decreased or increased\n",
        "        if jpDiff > 0:\n",
        "            cum_sum = cum_sum+.5\n",
        "\n",
        "       # Penalize charge degree adjustments\n",
        "        if vold['charge degree'] != vnew['charge degree']:\n",
        "            cum_sum = cum_sum+2\n",
        "\n",
        "        return cum_sum\n"
      ]
    },
    {
      "cell_type": "markdown",
      "source": [
        "*SNIP* from here on it is uninteresting details."
      ],
      "metadata": {
        "id": "tiGd1ySnaLbT"
      }
    },
    {
      "cell_type": "markdown",
      "source": [
        "## If you finish Early? Task 5: Model Construction and Validation\n",
        "\n",
        "A. **[Team, Your will TURN THIS IN with Assignment 1]** In the code, we examined 5x test-train splits throughout. Describe what this accomplishes, why that might be important, and what you see in these outputs."
      ],
      "metadata": {
        "id": "oHnHSsQZ8NIk"
      }
    },
    {
      "cell_type": "code",
      "execution_count": null,
      "metadata": {
        "nbpresent": {
          "id": "5fa4b332-06e6-41c3-b431-52138c9d9c2e"
        },
        "cellView": "form",
        "id": "bPR6-kCOziD_"
      },
      "outputs": [],
      "source": [
        "#@title Double click this area to collapse this massive cell\n",
        "'''\n",
        "Author: Jonathan Dodge\n",
        "'''\n",
        "import pandas as pd\n",
        "import numpy as np\n",
        "import json\n",
        "\n",
        "from copy import deepcopy\n",
        "from random import randint\n",
        "\n",
        "from sklearn.linear_model import LogisticRegression\n",
        "from sklearn.metrics.pairwise import euclidean_distances\n",
        "\n",
        "\n",
        "#The first two functions will be used to show predictions/labels from the model.  Using them allows each of the explanation function to depend slightly less on the particular data set the model was trained on\n",
        "def stringPrediction(prediction):\n",
        "    answerStr = \"\"\n",
        "    if prediction:\n",
        "        answerStr = \"likely to reoffend\"\n",
        "    else:\n",
        "        answerStr = \"NOT likely to reoffend\"\n",
        "    return answerStr\n",
        "def stringInstanceLabel(label):\n",
        "    answerStr = \"\"\n",
        "    if label:\n",
        "        answerStr = \"reoffended\"\n",
        "    else:\n",
        "        answerStr = \"did NOT reoffend\"\n",
        "    return answerStr\n",
        "\n",
        "\n",
        "#This function will be used by various explanation functions later to show a single data instance\n",
        "def showInstance(dataInstance, baseline_columns, instanceName, silent=False):\n",
        "    # input: dataInstance       A row of a pandas dataframe\n",
        "    # input: baseline_columns   A list of strings indicating the names of the features which are baseline\n",
        "                                # meaning that they do not appear in the instance's dataframe columns\n",
        "    # input: silent             Boolean, indicates whether print should occur\n",
        "    # OUTPUT: list of strings, the labels of the columns for the features which were \"on\" for the instance\n",
        "    strings = list()\n",
        "\n",
        "    # print header row, with prediction/label\n",
        "    #if not silent:\n",
        "    #    print \"Defendant:\", instanceName\n",
        "\n",
        "    # print features which were 'on'\n",
        "    for k in range(0, len(dataInstance)):\n",
        "        if dataInstance[k]:\n",
        "            strings.append(dataInstance.index[k])\n",
        "\n",
        "    droppedStrings = [] # accumulator for feature names which are baseline and describe this instance\n",
        "    # find and print features which were 'off' for all categories of the feature\n",
        "    for baselineHere in baseline_columns:\n",
        "        overlapFound = False\n",
        "        for stringHere in strings:\n",
        "            # Compare the instance's descriptors with baseline.  this test is primitive, but kinda works\n",
        "            if stringHere[:3] == baselineHere[:3]:\n",
        "                overlapFound = True\n",
        "        # if no overlap was found, then this instance is part of the baseline group for this feature\n",
        "        if not overlapFound:\n",
        "            droppedStrings.append(baselineHere)\n",
        "\n",
        "    # combine the features which were \"on\" with the \"baseline\" features\n",
        "    strings = strings + droppedStrings\n",
        "\n",
        "    # sort and then rearrange the strings so they always appear in the same order\n",
        "    strings.sort()\n",
        "    strings[4],strings[2] = strings[2],strings[4]\n",
        "    strings[1],strings[2] = strings[2],strings[1]\n",
        "    strings[1],strings[0] = strings[0],strings[1]\n",
        "\n",
        "    # print the feature names (if necessary)\n",
        "    #if not silent:\n",
        "    #    for featureName in strings:\n",
        "    #        cutIdx = featureName.rfind(\"_\")\n",
        "    #        print \"\\t\", featureName[0:cutIdx]+\":\",featureName[cutIdx+1:]\n",
        "    #    print\n",
        "\n",
        "    # json dump\n",
        "    if not silent:\n",
        "        caseDict = {\"name\" : instanceName}\n",
        "        for featureName in strings:\n",
        "            cutIdx = featureName.rfind(\"_\")\n",
        "            caseDict[featureName[0:cutIdx]] = featureName[cutIdx+1:]\n",
        "        print(json.dumps(caseDict))\n",
        "    return strings\n",
        "\n",
        "\n",
        "# A helper function to quantize coefficients based on the coefficient ranges\n",
        "def quantizeCoeff(coeff, maxCoeff, minCoeff):\n",
        "    # input: coeff       The coefficient to quantize and convert to an output string\n",
        "    # input: maxCoeff   The maximum coefficient (for quantizing)\n",
        "    # input: minCoeff   The minimum coefficient (for quantizing)\n",
        "    # OUTPUT: a string of \"-----\", \"0\", or \"++\" to describe where coeff falls in the range specified by min/max\n",
        "    binCount =  11\n",
        "    binRange = (maxCoeff - minCoeff)/binCount\n",
        "    binIndex = (coeff - minCoeff)/binRange\n",
        "    # make it so that the max value is not by itself as its own bin, since the bins are left associative, meaning shaped as |___\n",
        "    if binCount == int(binIndex):\n",
        "        binIndex -= 1\n",
        "\n",
        "    # how many minuses should appear (might be negative)\n",
        "    num_minuses = int(-minCoeff/binRange) - int(binIndex)\n",
        "\n",
        "    # check the middle bucket\n",
        "    if num_minuses == 0:\n",
        "        return \"0\"\n",
        "\n",
        "    # append the right number of -\n",
        "    plusMinusString = \"\"\n",
        "    for i in range(0,num_minuses):\n",
        "        plusMinusString += \"-\"\n",
        "\n",
        "    # append the right number of +\n",
        "    for i in range(0,-num_minuses):\n",
        "        plusMinusString += \"+\"\n",
        "\n",
        "    return plusMinusString\n",
        "\n",
        "def getDecorator(decoratorOn):\n",
        "    if decoratorOn:\n",
        "        return \"<b>* \"\n",
        "    else:\n",
        "        return \"  \"\n",
        "\n",
        "def getDecoratorClose(decoratorOn):\n",
        "    if decoratorOn:\n",
        "        return \"</b>\"\n",
        "    else:\n",
        "        return \"  \"\n",
        "\n",
        "#This class is a wrapper around the sklearn classifier, which we use to maintain various state we need to generate explanations.  The required state includes (but is not limited to), training examples, training labels, and feature labels.  The main reason this class is useful is that maintaining the columns that were dropped in the dummy coding is kind of a pain without maintaining some state information.\n",
        "class ExplainableClassifier:\n",
        "    def __init__(self, D_features, X_features, Y_features, trainExamples, baseline_columns):\n",
        "        self.D_features = D_features\n",
        "        self.X_features = X_features\n",
        "        self.Y_features = Y_features\n",
        "\n",
        "        self.trainLabels = trainExamples[Y_features]\n",
        "        self.trainDF = pd.get_dummies(trainExamples[D_features+X_features])\n",
        "\n",
        "        self.droppedStrings = baseline_columns\n",
        "        self.trainDF = self.trainDF.drop(self.droppedStrings, axis=1)\n",
        "\n",
        "        self.classifier = LogisticRegression()\n",
        "        self.classifier.fit(self.trainDF.values,self.trainLabels.values.ravel())\n",
        "\n",
        "    '''\n",
        "    Now, we get to the explanation functions themselves.  Some explanations will take a data instance to explain in the locality surrounding that point, while others are \"global,\" meaning they will generate essentially the same explanation for all points.\n",
        "\n",
        "    The other main axis which we will categorize explanations on is whether it \"describes\" or \"justifies.\" To elaborate, we appeal to the XAI literature review:\n",
        "    The distinction between 'explanation' and 'justification' had been made by some, although it may be more appropriate to think about a justification as a type of explanation. Nevertheless, early explaining systems focused on making the what visible to the user, but not the why. Both modes of explanation are useful, but our view is that most current systems focus on justification; justifying why a specific action was taken. Yet we have advocated earlier that an important goal of explanation is to help a user develop a robust and predictive mental model of a system. Justifications may be inefficient ways of doing this, because they are local and focus on specific cases. Global explanations regarding how the system works may be needed as well, and this may serve more directly to help a user understand the workings of a system than individual justifications for particular decisions.\n",
        "    '''\n",
        "\n",
        "\n",
        "    #First, we have input influence based classification.  We consider this explanation global and description.  Its geometric interpretation is to give the equation for the decision boundary as a description of the classifier (implemented by describing the weight each feature is given).\n",
        "    def inputInfluenceExplanation(self, instance, instanceName, silent=False):\n",
        "        # input: instance           single row dataframe, instance we are explaining (not used much for this function)\n",
        "        # input: silent             Boolean, indicates whether print should occur\n",
        "        instanceReshaped = np.asarray(instance).reshape(1,len(instance))\n",
        "        instanceFeatures = showInstance(instance, self.droppedStrings, instanceName, silent)\n",
        "        prediction = self.classifier.predict(instanceReshaped)[0]\n",
        "\n",
        "        # print the prediction and confidence\n",
        "        if not silent:\n",
        "            print(\"Prediction:\", stringPrediction(prediction))\n",
        "            #print \"Confidence:\", str(int(max(self.classifier.predict_proba(instanceReshaped)[0])*100)) + \"%\"\n",
        "            print\n",
        "\n",
        "            print(\"The predictive model assesses an individual's profile factors in the database to predict whether or not this individual is likely to reoffend.\", end=\"\\t\")\n",
        "            print(\"How different factors influence the prediction is illustrated below.\", end=\"\\t\")\n",
        "            print(\"The more +s (-s), means a person with that factor is more (less) likely to re-offend. Factors with (0) have little impact.\", end=\"\\t\")\n",
        "            print(\"A * will appear next to features which are relevant for this individual\")\n",
        "            print()\n",
        "\n",
        "        #built-in min/max function is giving me a really weird type, find it manually I guess\n",
        "        maxCoeff = -1000000\n",
        "        minCoeff = 1000000\n",
        "        featureCoefs = self.classifier.coef_ # for other classifiers, change this line\n",
        "        featureLabels = self.trainDF.columns\n",
        "        for k in featureCoefs[0]:\n",
        "            if k < minCoeff:\n",
        "                minCoeff = k\n",
        "            if k > maxCoeff:\n",
        "                maxCoeff = k\n",
        "\n",
        "\n",
        "\n",
        "        # armed with min/max feature importances, iterate through the features and quantize\n",
        "        output = []\n",
        "        zeroString = quantizeCoeff(0, maxCoeff, minCoeff)\n",
        "        lastFeature = \"\"\n",
        "        for k in range(0, len(featureCoefs[0])):\n",
        "            # split the category label off from the feature label\n",
        "            for feature in self.D_features + self.X_features:\n",
        "                if feature in featureLabels[k]:\n",
        "                    categoryLabel = featureLabels[k][len(feature)+1:]\n",
        "                    break\n",
        "\n",
        "            # check to see if we are still doing different categories of same feature or not\n",
        "            if lastFeature != feature:\n",
        "                lastFeature = feature\n",
        "                output.append(feature + \" :\")\n",
        "\n",
        "                # DUMMY_CODING_MOD now that we have printed the header, print the baseline category for this feature\n",
        "                # baseline features have a coefficient of 0 by definition.\n",
        "                for dropped in self.droppedStrings:\n",
        "                    if feature in dropped:\n",
        "                        output.append(\"\\t\" + getDecorator(dropped in instanceFeatures) +  dropped[len(feature)+1:] \\\n",
        "                                      + \" (\" + zeroString + \")\")\n",
        "\n",
        "            # handle the regular case of producing output for this feature and category\n",
        "            plusMinusString = quantizeCoeff(featureCoefs[0][k], maxCoeff, minCoeff)\n",
        "            output.append(\"\\t\" +getDecorator(instanceReshaped[0][k]) + categoryLabel + \" (\" + plusMinusString + \")\" )\n",
        "\n",
        "        # reorder the output list so that items appear in semantic order, then emit output\n",
        "        # these lines are NOT general\n",
        "        output[4],output[6] = output[6],output[4]\n",
        "        output[4],output[5] = output[5],output[4]\n",
        "        output[13],output[15] = output[15],output[13]\n",
        "        output[13],output[14] = output[14],output[13]\n",
        "        for out in output:\n",
        "            print(out)\n",
        "\n",
        "\n",
        "    #Next, we have Sensitivity-based explanation, which is local and justification.  Its geometric interpretation is that from a specific instance's point in feature space, we search along axis-aligned lines until we hit the decision boundary.  Thus, the implicit justification of finding that the decision point is lower than the boundary for a feature X is that the decision was made \"because feature X was too low.\"\n",
        "    def sensitivityExplanation(self, instance, instanceName, silent=False):\n",
        "        # input: instance           single row dataframe, instance we are explaining (not used much for this function)\n",
        "        # input: silent             Boolean, indicates whether print should occur\n",
        "        # output: boolean, whether or not a single feature perturbation was found that flips the outcome.\n",
        "        instanceReshaped = np.asarray(instance).reshape(1,len(instance))\n",
        "        showInstance(instance, self.droppedStrings, instanceName, silent)\n",
        "\n",
        "        # setup some local variables and run the classifier on the input\n",
        "        featureLabelStems = self.D_features + self.X_features\n",
        "        featureLabels = list(self.trainDF.columns)\n",
        "        prediction = self.classifier.predict(instanceReshaped)[0]\n",
        "\n",
        "        # print the prediction and confidence\n",
        "        if not silent:\n",
        "            print(\"Prediction:\", stringPrediction(prediction))\n",
        "            #print(\"Confidence:\", str(int(max(self.classifier.predict_proba(instanceReshaped)[0])*100)) + \"%\")\n",
        "            print()\n",
        "\n",
        "            print(\"The predictive model assesses an individual's profile factors in the database to predict whether or not this individual is likely to reoffend.\", end=\"\\t\")\n",
        "            print(\"The prediction is based on:\")\n",
        "            print()\n",
        "\n",
        "        # Since this formulation uses categorical indicator variables, we can deep copy the instance, zero out\n",
        "        # all the mutually exclusive categories, then march a bit down each category  (i.e. start with 0 priors,\n",
        "        # then 1-3 priors, then 3+ priors, repeat for next feature.)\n",
        "        # NOTE: One of these cases will be duplicate of the ACTUAL data instance, but the prediction won't change in that\n",
        "        # case, so nothing will happen and it is fine.  This is easier than determining which feature vectors\n",
        "        # are actually different.\n",
        "        foundSensitiveFeature = False\n",
        "        output = []\n",
        "        for stem in featureLabelStems:\n",
        "            # Start with a fresh copy of the instance to perturb\n",
        "            perturbed = deepcopy(instanceReshaped)\n",
        "\n",
        "            # now determine the feature index range corresponding to the feature label stem (a family of categories)\n",
        "            # e.g. given the X feature \"priors\" we want data frame columns \"priors_count_0\", \"priors_count_1_to_3\", etc\n",
        "            firstMatchIdx = 100000\n",
        "            lastMatchIdx = -100000\n",
        "            for i in range(0, len(featureLabels)):\n",
        "                if stem in featureLabels[i]:\n",
        "                    if i < firstMatchIdx:\n",
        "                        firstMatchIdx = i\n",
        "                    if i > lastMatchIdx:\n",
        "                        lastMatchIdx = i\n",
        "\n",
        "            # now we zero out all the relevant feature values for these mutually exclusive categories\n",
        "            for j in range(firstMatchIdx, lastMatchIdx+1):\n",
        "                perturbed[0][j] = 0\n",
        "\n",
        "            #DUMMY_CODING_MOD run the classifier on the zero'd version\n",
        "            newPrediction = self.classifier.predict(perturbed)\n",
        "            if(prediction != newPrediction):\n",
        "                for dropped in self.droppedStrings:\n",
        "                    if stem in dropped:\n",
        "                        foundSensitiveFeature = True\n",
        "                        output.append(dropped)\n",
        "            else:\n",
        "                output.append(\"\")\n",
        "\n",
        "            # now we march a bit along each feature within these mutually exclusive categories\n",
        "            for k in range(firstMatchIdx, lastMatchIdx+1):\n",
        "                perturbed[0][k] = 1\n",
        "                newPrediction = self.classifier.predict(perturbed)\n",
        "                if(prediction != newPrediction):\n",
        "                    foundSensitiveFeature = True\n",
        "                    output.append(featureLabels[k])\n",
        "                else:\n",
        "                    output.append(\"\")\n",
        "                perturbed[0][k] = 0\n",
        "\n",
        "\n",
        "        # reorder the output list so that items appear in semantic order, then emit output\n",
        "        # these lines are NOT general\n",
        "        output[2],output[4] = output[4],output[2]\n",
        "        output[2],output[3] = output[3],output[2]\n",
        "        output[9],output[11] = output[11],output[9]\n",
        "        output[9],output[10] = output[10],output[9]\n",
        "\n",
        "\n",
        "\n",
        "        #9-12 priors\n",
        "        priorStart = 9\n",
        "        priorEnd = 13\n",
        "        # bin priors UP\n",
        "        if output[priorStart] == \"\":\n",
        "            # find the first area of sensitivity\n",
        "            for firstSensitivity in range(priorStart, priorEnd + 1):\n",
        "                if output[firstSensitivity] != \"\":\n",
        "                    break\n",
        "\n",
        "            # zero out the relevant sensitivities, and also do a sanity check that we dont have a case of\n",
        "            #        positive examples | negative examples | positive examples\n",
        "            # This is because are using logistic regression, which is a linear model\n",
        "            for endSensitivity in range(firstSensitivity + 1, priorEnd + 1):\n",
        "                if output[endSensitivity] == \"\":\n",
        "                    pass#print(\"PANIC, WE HAVE NONLINEARITY (branch 1, prior)\")\n",
        "                else:\n",
        "                    output[endSensitivity] = \"\"\n",
        "\n",
        "            # make a mild adjustment to the feature that started the sequence of related sensitive features\n",
        "            if output[firstSensitivity] != \"\":\n",
        "                output[firstSensitivity] += \"\\\" (or more)\"\n",
        "\n",
        "        # bin priors DOWN\n",
        "        else:\n",
        "            # find the first area of INsensitivity, and zero out the previous sensitivity as we find new ones\n",
        "            for firstInsensitivity in range(priorStart, priorEnd + 1):\n",
        "                if output[firstInsensitivity] == \"\":\n",
        "                    break\n",
        "                if firstInsensitivity > priorStart:\n",
        "                    output[firstInsensitivity-1] = \"\"\n",
        "\n",
        "            # make a mild adjustment to the feature that started the sequence of related INsensitive features\n",
        "            if firstInsensitivity > priorStart+1:\n",
        "                output[firstInsensitivity-1] += \"\\\" (or fewer)\"\n",
        "\n",
        "            # do a sanity check that we dont have a case of\n",
        "            #        positive examples | negative examples | positive examples\n",
        "            # This is because are using logistic regression, which is a linear model\n",
        "            for endInsensitivity in range(firstInsensitivity + 1, priorEnd + 1):\n",
        "                if output[endInsensitivity] != \"\":\n",
        "                    pass#print(\"PANIC, WE HAVE NONLINEARITY (branch 2, prior)\")\n",
        "\n",
        "\n",
        "        #index 2-6 age\n",
        "        ageStart = 2\n",
        "        ageEnd = 6\n",
        "        # bin ages UP\n",
        "        if output[ageStart] == \"\":\n",
        "            # find the first area of sensitivity\n",
        "            for firstSensitivity in range(ageStart, ageEnd + 1):\n",
        "                if output[firstSensitivity] != \"\":\n",
        "                    break\n",
        "\n",
        "            # zero out the relevant sensitivities, and also do a sanity check that we dont have a case of\n",
        "            #        positive examples | negative examples | positive examples\n",
        "            # This is because are using logistic regression, which is a linear model\n",
        "            for endSensitivity in range(firstSensitivity + 1, ageEnd + 1):\n",
        "                if output[endSensitivity] == \"\":\n",
        "                    pass#print(\"PANIC, WE HAVE NONLINEARITY (branch 1, age)\")\n",
        "                else:\n",
        "                    output[endSensitivity] = \"\"\n",
        "\n",
        "            # make a mild adjustment to the feature that started the sequence of related sensitive features\n",
        "            if output[firstSensitivity] != \"\":\n",
        "                output[firstSensitivity] += \"\\\" (or older)\"\n",
        "\n",
        "        # bin ages DOWN\n",
        "        else:\n",
        "            # find the first area of INsensitivity, and zero out the previous sensitivity as we find new ones\n",
        "            for firstInsensitivity in range(ageStart, ageEnd + 1):\n",
        "                if output[firstInsensitivity] == \"\":\n",
        "                    break\n",
        "                if firstInsensitivity > ageStart:\n",
        "                    output[firstInsensitivity-1] = \"\"\n",
        "\n",
        "            # make a mild adjustment to the feature that started the sequence of related INsensitive features\n",
        "            if firstInsensitivity > ageStart+1:\n",
        "                output[firstInsensitivity-1] += \"\\\" (or younger)\"\n",
        "\n",
        "            # do a sanity check that we dont have a case of\n",
        "            #        positive examples | negative examples | positive examples\n",
        "            # This is because are using logistic regression, which is a linear model\n",
        "            for endInsensitivity in range(firstInsensitivity + 1, ageEnd + 1):\n",
        "                if output[endInsensitivity] != \"\":\n",
        "                    pass#print(\"PANIC, WE HAVE NONLINEARITY (branch 2, age)\")\n",
        "\n",
        "\n",
        "\n",
        "        # check to see if we found any feature perturbation which flips the output\n",
        "        if not silent:\n",
        "            newPredictString = stringPrediction(not prediction)\n",
        "            for outLineNum in range(0, len(output)):\n",
        "                if output[outLineNum] != \"\":\n",
        "                    print(instanceName+\"'s\", output[outLineNum][0:output[outLineNum].find(\"_\")], \":\", end=\"\\t\")\n",
        "                    if '\\\"' in output[outLineNum]:\n",
        "                        print(\"If the individual had \\\"\"+ output[outLineNum]+\\\n",
        "                                    \" they would have been predicted as \"+ newPredictString)\n",
        "                    else:\n",
        "                        print(\"If the individual had \\\"\"+ output[outLineNum]+\\\n",
        "                                    \"\\\" they would have been predicted as \"+ newPredictString)\n",
        "\n",
        "            if not foundSensitiveFeature:\n",
        "                print(\"No single feature change was found that changes the prediction for this individual.\\n\")\n",
        "            else:\n",
        "                print(\"Changing other factors will not change the prediction for this individual.\\n\")\n",
        "        return foundSensitiveFeature\n",
        "\n",
        "\n",
        "    #Next is Case explanation, which is local and justification. Its geometric interpretation is that we find the nearest neighbor(s) in the training set and report their label(s).  It is possible we should hybridize with demographic explanation, depending on how complex and well covered the feature space is.  In some settings we find many exact matches in the training set for a given test instance.\n",
        "    def caseExplanation(self, instance, instanceName, silent=False):\n",
        "        # input: instance           single row dataframe, instance we are explaining (not used much for this function)\n",
        "        # input: silent             Boolean, indicates whether print should occur\n",
        "        # output: 2-tuple, first entry has exact matches in feature space, second entry also matches label space\n",
        "        instanceReshaped = np.asarray(instance).reshape(1,len(instance))\n",
        "        showInstance(instance, self.droppedStrings, instanceName, silent)\n",
        "\n",
        "        # setup some local variables and run the classifier on the input\n",
        "        prediction = self.classifier.predict(instanceReshaped)[0]\n",
        "        # print the prediction and confidence\n",
        "        if not silent:\n",
        "            print(\"Prediction:\", stringPrediction(prediction))\n",
        "            #print(\"Confidence:\", str(int(max(self.classifier.predict_proba(instanceReshaped)[0])*100)) + \"%\")\n",
        "            print\n",
        "\n",
        "            print(\"The predictive model assesses an individual's profile factors in the database to predict whether or not this individual is likely to reoffend.\", end=\"\\t\")\n",
        "            print(\"The prediction is based on whether similar or identical cases in the past re-offended or not.\", end=\"\\t\")\n",
        "\n",
        "        # compute distances between the instance and the training set, then find the min\n",
        "        distances = euclidean_distances(instanceReshaped, self.trainDF)\n",
        "        minDistanceIdx = np.argmin(distances)\n",
        "\n",
        "        # this code reports how many EXACT matches this data instance had in the training set, regardless of label\n",
        "        # index [0] first because distance is returned as a matrix, since the input can be more than 1 instance\n",
        "        filteredList = [i for i in distances[0] if i == 0.0]\n",
        "\n",
        "        # distances in feature X label space\n",
        "        instanceReshapedWithLabel = np.append(instanceReshaped, prediction)\n",
        "        instanceReshapedWithLabel = np.asarray(instanceReshapedWithLabel).reshape(1,len(instanceReshapedWithLabel))\n",
        "        trainAndLabelsDF = self.trainDF.assign(y=self.trainLabels.values.ravel()) # need this to filter on y\n",
        "        distancesWithLabel = euclidean_distances(instanceReshapedWithLabel, trainAndLabelsDF)\n",
        "        minDistanceIdxWithLabel = np.argmin(distancesWithLabel)\n",
        "\n",
        "        # this code reports how many EXACT matches this data instance had in the training set, regardless of label\n",
        "        # index [0] first because distance is returned as a matrix, since the input can be more than 1 instance\n",
        "        filteredWithLabelList = [i for i in distancesWithLabel[0] if i == 0.0]\n",
        "        if not silent:\n",
        "            print(\"The training set contained\", len(filteredList), \"individuals identical to this one.\")\n",
        "            print(len(filteredWithLabelList), \"of them\", stringInstanceLabel(prediction), )\n",
        "            if len(filteredList) == 0:\n",
        "                print(\"(0%)\\n\")\n",
        "            else:\n",
        "                print(\"(\"+str(int(float(len(filteredWithLabelList))/float(len(filteredList))*100))+\"%)\\n\")\n",
        "\n",
        "        # now print the data instance which was determined to be the nearest neighbor in the training set\n",
        "        if not silent:\n",
        "            print(\"Nearest Neighbor in training data\")\n",
        "        # index [0] second because iloc returns a row of a data frame (in this case, a 1 element row containing a label)\n",
        "        neighbor_name = \"<NEIGHBOR>\"\n",
        "        strings = showInstance(self.trainDF.iloc[minDistanceIdx], self.droppedStrings, neighbor_name, silent=True)\n",
        "        nnLabel = self.trainLabels.iloc[minDistanceIdx][0]\n",
        "\n",
        "        # now we set the strings for each feature in the dataset so that we can explain with them!\n",
        "        race_string = \"race\"\n",
        "        age_string = \"age\"\n",
        "        charge_string = \"c_charge\"\n",
        "        priors_string = \"priors\"\n",
        "        juv_prior_string = 'juv_prior'\n",
        "        for string in strings:\n",
        "            if race_string in string:\n",
        "                race_string = string\n",
        "            if age_string in string:\n",
        "                age_string = string\n",
        "            if charge_string in string:\n",
        "                charge_string = string\n",
        "            if priors_string in string:\n",
        "                priors_string = string\n",
        "            if juv_prior_string in string:\n",
        "                juv_prior_string = string\n",
        "\n",
        "        #DUMMY_CODING_MOD if the strings are not modified (found by checking containment), replace with dropped string\n",
        "        for string in self.droppedStrings:\n",
        "            if race_string in string:\n",
        "                race_string = string\n",
        "            if age_string in string:\n",
        "                age_string = string\n",
        "            if charge_string in string:\n",
        "                charge_string = string\n",
        "            if priors_string in string:\n",
        "                priors_string = string\n",
        "            if juv_prior_string in string:\n",
        "                juv_prior_string = string\n",
        "\n",
        "        if not silent:\n",
        "            print(\"This decision was based on thousands of similar cases from the past.\", end=\"\\t\")\n",
        "            print(\"For example, a similar case to this individual is \", neighbor_name, \\\n",
        "                \", a \\\"\"+ race_string+ \\\n",
        "                \",\\\" \\\"\"+age_string+ \\\n",
        "                \",\\\" with \\\"\"+ priors_string+ \\\n",
        "                \"\\\" and \\\"\"+juv_prior_string+ \\\n",
        "                \",\\\" charged with a \\\"\"+charge_string+ \\\n",
        "                \"\\\".\\n\", instanceName, stringInstanceLabel(nnLabel) )\n",
        "        return len(filteredList), len(filteredWithLabelList)\n",
        "\n",
        "\n",
        "    #Next is Demographic explanation, which is global and description. Its geometric interpretation is characterizing how the training examples are distributed in feature space, which induces the classifier.\n",
        "    def demographicExplanation(self, instance, instanceName, silent=False):\n",
        "        # input: instance           single row dataframe, instance we are explaining (not used much for this function)\n",
        "        # input: silent             Boolean, indicates whether print should occur\n",
        "        instanceReshaped = np.asarray(instance).reshape(1,len(instance))\n",
        "        strings = showInstance(instance, self.droppedStrings, instanceName)\n",
        "\n",
        "        # setup some local variables and run the classifier on the input\n",
        "        featureLabelStems = self.D_features + self.X_features\n",
        "        featureLabels = list(self.trainDF.columns)\n",
        "        trainAndLabelsDF = self.trainDF.assign(y=self.trainLabels.values.ravel()) # need this to filter on y\n",
        "        prediction = self.classifier.predict(instanceReshaped)[0]\n",
        "        if not silent:\n",
        "            print(\"Prediction:\", stringPrediction(prediction))\n",
        "            #print(\"Confidence:\", str(int(max(self.classifier.predict_proba(instanceReshaped)[0])*100)) + \"%\")\n",
        "            print()\n",
        "            print(\"The predictive model assesses an individual's profile factors in the database to predict whether or not this individual is likely to reoffend.\", end=\"\\t\")\n",
        "            print(\"The prediction is based on the likelihood of previous cases with different profile factors re-offended or not, as illustrated below.\", end=\"\\t\")\n",
        "            print(\"A * will appear next to features which are relevant for this individual.\")\n",
        "\n",
        "\n",
        "        # compute summary statistics on the training data for each feature and category\n",
        "        lastFeature = \"\"\n",
        "        output = []\n",
        "        for k in range(0,len(featureLabels)):\n",
        "            # split the category label off from the feature label\n",
        "            for feature in self.D_features + self.X_features:\n",
        "                if feature in featureLabels[k]:\n",
        "                    categoryLabel = featureLabels[k][len(feature)+1:]\n",
        "                    break\n",
        "\n",
        "            # check to see if we are still doing different categories of same feature or not\n",
        "            if lastFeature != feature:\n",
        "                lastFeature = feature\n",
        "                output.append(feature+\" :\")\n",
        "\n",
        "                #DUMMY_CODING_MOD compute demographics for those in the baseline feature categories\n",
        "                # First, determine the dropped column name that corresponds to this family of feature categories\n",
        "                labelHere = \"\"\n",
        "                for dropped in self.droppedStrings:\n",
        "                    if feature in dropped:\n",
        "                        labelHere = dropped\n",
        "\n",
        "                # now determine the feature index range corresponding to the feature label stem\n",
        "                # e.g. given the X feature \"priors\" we want data frame columns \"priors_count_0\", \"priors_count_1_to_3\", etc\n",
        "                firstMatchIdx = 100000\n",
        "                lastMatchIdx = -100000\n",
        "                for i in range(0, len(featureLabels)):\n",
        "                    if feature in featureLabels[i]:\n",
        "                        if i < firstMatchIdx:\n",
        "                            firstMatchIdx = i\n",
        "                        if i > lastMatchIdx:\n",
        "                            lastMatchIdx = i\n",
        "\n",
        "                # successively remove from the dataframe until only those with \"0\" values for all feature categories remain\n",
        "                thisInstanceInBaseline = True # also determine if this instance is 0 valued for all feature categories too\n",
        "                baselineDF = trainAndLabelsDF\n",
        "                for j in range(firstMatchIdx, lastMatchIdx+1):\n",
        "                    # successively filter the DF such that each feature is \"off\"\n",
        "                    baselineDF = baselineDF[baselineDF[featureLabels[j]] == 0]\n",
        "                    if instanceReshaped[0][j]:\n",
        "                        thisInstanceInBaseline = False\n",
        "\n",
        "\n",
        "                # now, the baselineDF only contains rows with ALL categories of this feature \"off\"\n",
        "                denominator = len(baselineDF)\n",
        "\n",
        "                # further, select the training examples which match the prediction for the given instance\n",
        "                baselineDF = baselineDF.query('y=='+str(prediction))\n",
        "                numerator = len(baselineDF)\n",
        "\n",
        "                # now print the results from summary statistics on training data\n",
        "                result = str(int((float(numerator)/float(denominator))*100))\n",
        "                output.append(\"\\t\"+getDecorator(thisInstanceInBaseline)+result+\"% of those in the \"+\\\n",
        "                              labelHere[len(feature)+1:]+\" \"+feature+\" group \"+ stringInstanceLabel(prediction))\n",
        "\n",
        "\n",
        "\n",
        "            # set the index based on the current feature.  Drop=false prevents the dataframe from being rearranged\n",
        "            trainAndLabelsDF = trainAndLabelsDF.set_index(featureLabels[k], drop=False)\n",
        "\n",
        "            # now that we have set the index, this will select all training examples with the \"index\" feature active\n",
        "            kthFeatureDF = trainAndLabelsDF.loc[1]\n",
        "            denominator = len(kthFeatureDF)\n",
        "\n",
        "            # further, select the training examples which match the prediction for the given instance\n",
        "            kthFeatureDF = kthFeatureDF.query('y=='+str(prediction))\n",
        "            numerator = len(kthFeatureDF)\n",
        "\n",
        "            # now print the results from summary statistics on training data\n",
        "            result = str(int((float(numerator)/float(denominator))*100))\n",
        "            output.append(\"\\t\"+getDecorator(instanceReshaped[0][k])+result+\"% of those in the \"+categoryLabel+\" \"\\\n",
        "                          +feature+\" group \"+stringInstanceLabel(prediction))\n",
        "\n",
        "        # reorder the output list so that items appear in semantic order, then emit output\n",
        "        # these lines are NOT general\n",
        "        output[4],output[6] = output[6],output[4]\n",
        "        output[4],output[5] = output[5],output[4]\n",
        "        output[13],output[15] = output[15],output[13]\n",
        "        output[13],output[14] = output[14],output[13]\n",
        "        for out in output:\n",
        "            print(out)\n",
        "\n"
      ]
    },
    {
      "cell_type": "markdown",
      "metadata": {
        "id": "_vTKx8ETziEC"
      },
      "source": [
        "Read the data files (the ones tagged with _new have been transformed, the others are raw), then print the high level features we will use in this experiment"
      ]
    },
    {
      "cell_type": "code",
      "execution_count": null,
      "metadata": {
        "nbpresent": {
          "id": "d8a299d5-59fa-4294-99f2-a3bff7722a2f"
        },
        "colab": {
          "base_uri": "https://localhost:8080/"
        },
        "id": "C3_FreXsziEE",
        "outputId": "6cbea000-6e47-453f-db7a-689fe8005b0e"
      },
      "outputs": [
        {
          "output_type": "stream",
          "name": "stdout",
          "text": [
            "['race', 'age', 'charge degree', 'prior convictions', 'juvenile priors', 'is_recid']\n"
          ]
        }
      ],
      "source": [
        "path =r'data/' # use your path\n",
        "lastColPlusOne = 7\n",
        "train_0 = pd.read_csv(path + \"train_0.csv\",index_col=None, header=0, usecols=range(1,lastColPlusOne))\n",
        "train_1 = pd.read_csv(path + \"train_1.csv\",index_col=None, header=0, usecols=range(1,lastColPlusOne))\n",
        "train_2 = pd.read_csv(path + \"train_2.csv\",index_col=None, header=0, usecols=range(1,lastColPlusOne))\n",
        "train_3 = pd.read_csv(path + \"train_3.csv\",index_col=None, header=0, usecols=range(1,lastColPlusOne))\n",
        "train_4 = pd.read_csv(path + \"train_4.csv\",index_col=None, header=0, usecols=range(1,lastColPlusOne))\n",
        "test_0 = pd.read_csv(path + \"test_0.csv\",index_col=None, header=0, usecols=range(1,lastColPlusOne))\n",
        "test_1 = pd.read_csv(path + \"test_1.csv\",index_col=None, header=0, usecols=range(1,lastColPlusOne))\n",
        "test_2 = pd.read_csv(path + \"test_2.csv\",index_col=None, header=0, usecols=range(1,lastColPlusOne))\n",
        "test_3 = pd.read_csv(path + \"test_3.csv\",index_col=None, header=0, usecols=range(1,lastColPlusOne))\n",
        "test_4 = pd.read_csv(path + \"test_4.csv\",index_col=None, header=0, usecols=range(1,lastColPlusOne))\n",
        "train_new_0 = pd.read_csv(path + \"train_new_0.csv\",index_col=None, header=0, usecols=range(1,lastColPlusOne))\n",
        "train_new_1 = pd.read_csv(path + \"train_new_1.csv\",index_col=None, header=0, usecols=range(1,lastColPlusOne))\n",
        "train_new_2 = pd.read_csv(path + \"train_new_2.csv\",index_col=None, header=0, usecols=range(1,lastColPlusOne))\n",
        "train_new_3 = pd.read_csv(path + \"train_new_3.csv\",index_col=None, header=0, usecols=range(1,lastColPlusOne))\n",
        "train_new_4 = pd.read_csv(path + \"train_new_4.csv\",index_col=None, header=0, usecols=range(1,lastColPlusOne))\n",
        "test_new_0 = pd.read_csv(path + \"test_new_0.csv\",index_col=None, header=0, usecols=range(1,lastColPlusOne))\n",
        "test_new_1 = pd.read_csv(path + \"test_new_1.csv\",index_col=None, header=0, usecols=range(1,lastColPlusOne))\n",
        "test_new_2 = pd.read_csv(path + \"test_new_2.csv\",index_col=None, header=0, usecols=range(1,lastColPlusOne))\n",
        "test_new_3 = pd.read_csv(path + \"test_new_3.csv\",index_col=None, header=0, usecols=range(1,lastColPlusOne))\n",
        "test_new_4 = pd.read_csv(path + \"test_new_4.csv\",index_col=None, header=0, usecols=range(1,lastColPlusOne))\n",
        "\n",
        "TrainList=[train_0,train_1,train_2,train_3,train_4]\n",
        "TestList=[test_0,test_1,test_2,test_3,test_4]\n",
        "TrainNewList=[train_new_0,train_new_1,train_new_2,train_new_3,train_new_4]\n",
        "TestNewList=[test_new_0,test_new_1,test_new_2,test_new_3,test_new_4]\n",
        "\n",
        "print(list(TrainList[0]))"
      ]
    },
    {
      "cell_type": "markdown",
      "metadata": {
        "id": "Z8yWEZ4yziEG"
      },
      "source": [
        "Setup the features and their type.  D is protected features, while X is non-protected ones. Y is the output."
      ]
    },
    {
      "cell_type": "code",
      "execution_count": null,
      "metadata": {
        "nbpresent": {
          "id": "e962d7f9-d327-4609-a3e6-71a99206b9d9"
        },
        "id": "sBC-098qziEH"
      },
      "outputs": [],
      "source": [
        "D_features = ['race']\n",
        "Y_features = ['is_recid']\n",
        "X_features = ['age', 'charge degree','prior convictions', 'juvenile priors']"
      ]
    },
    {
      "cell_type": "markdown",
      "metadata": {
        "id": "AA5b9UTtziEI"
      },
      "source": [
        "Baseline features are a requirement imposed by logistic regression, which compares to a baseline where all features are set to 0. Thus, dropping these columns ensure that a baseline sample is interpretable when dummy coding. Throughout the source code in this notebook, there will be tags that show a modification required by this type of dummy coding.\n",
        "\n",
        "To determine which columns to drop, we used the median category for each feature (when possible)"
      ]
    },
    {
      "cell_type": "code",
      "execution_count": null,
      "metadata": {
        "nbpresent": {
          "id": "e962d7f9-d327-4609-a3e6-71a99206b9d9"
        },
        "id": "Q1FcEne5ziEJ"
      },
      "outputs": [],
      "source": [
        "baseline_columns = ['race_Caucasian', 'age_40-49', 'charge degree_Felony', 'prior convictions_4-6', 'juvenile priors_No']"
      ]
    },
    {
      "cell_type": "markdown",
      "metadata": {
        "nbpresent": {
          "id": "c7642c75-aa45-4ef6-928c-d1034e20cb1f"
        },
        "id": "ixl6y8ZXziEK"
      },
      "source": [
        "Next, we construct the explainable classifiers (including training dataframes) and test dataframes."
      ]
    },
    {
      "cell_type": "code",
      "execution_count": null,
      "metadata": {
        "nbpresent": {
          "id": "49985f90-ff8d-4a5c-a507-085db88209ac"
        },
        "id": "NRudnEZAziEL",
        "colab": {
          "base_uri": "https://localhost:8080/"
        },
        "outputId": "cf40c50a-69d2-45ff-fe1a-6f40fdb31044"
      },
      "outputs": [
        {
          "output_type": "stream",
          "name": "stdout",
          "text": [
            "Split 0 Accuracy RAW: 0.6742424242424242\n",
            "Split 0 Accuracy PROC: 0.6704545454545454\n",
            "\n",
            "Split 1 Accuracy RAW: 0.6647727272727273\n",
            "Split 1 Accuracy PROC: 0.6609848484848485\n",
            "\n",
            "Split 2 Accuracy RAW: 0.6732954545454546\n",
            "Split 2 Accuracy PROC: 0.6751893939393939\n",
            "\n",
            "Split 3 Accuracy RAW: 0.6714015151515151\n",
            "Split 3 Accuracy PROC: 0.6761363636363636\n",
            "\n",
            "Split 4 Accuracy RAW: 0.6543560606060606\n",
            "Split 4 Accuracy PROC: 0.6581439393939394\n",
            "\n"
          ]
        }
      ],
      "source": [
        "classifiersRaw = []\n",
        "classifiersProc = []\n",
        "testDFs = []\n",
        "# there are 5 sets of files, corresponding to different test/train splits of the dataset\n",
        "for i in range(0,5):\n",
        "    # create the classifiers for each split\n",
        "    classifiersRaw.append(ExplainableClassifier(D_features,X_features,Y_features, TrainList[i], baseline_columns))\n",
        "    classifiersProc.append(ExplainableClassifier(D_features,X_features,Y_features, TrainNewList[i], baseline_columns))\n",
        "\n",
        "    # create the test dataframe for each split, being sure to drop the appropriate columns\n",
        "    testDF = pd.get_dummies(TestList[i][D_features+X_features])\n",
        "\n",
        "    # occasionally, a category does not appear, handle this case by creating a column of 0s\n",
        "    for column in classifiersRaw[i].trainDF.columns:\n",
        "        if column not in testDF:\n",
        "            testDF[column] = 0\n",
        "\n",
        "    testDF = testDF.drop(baseline_columns, axis=1)\n",
        "    testDFs.append(testDF)\n",
        "\n",
        "    # measure accuracy for each classifier on the testDF\n",
        "    print(\"Split\", i, \"Accuracy RAW:\", classifiersRaw[-1].classifier.score(testDF.values, TestList[i][Y_features]))\n",
        "    print(\"Split\", i, \"Accuracy PROC:\", classifiersProc[-1].classifier.score(testDF.values, TestList[i][Y_features]))\n",
        "    print()"
      ]
    },
    {
      "cell_type": "markdown",
      "metadata": {
        "id": "UqNFrhY6ziEN"
      },
      "source": [
        "Determine the set of test data which have no matching cases in training data"
      ]
    },
    {
      "cell_type": "code",
      "execution_count": null,
      "metadata": {
        "id": "x8tb5J0MziEO",
        "colab": {
          "base_uri": "https://localhost:8080/"
        },
        "outputId": "7fdafbe7-4c65-48e3-efc3-0b1316cddd17"
      },
      "outputs": [
        {
          "output_type": "stream",
          "name": "stdout",
          "text": [
            "[[6, 146, 158, 231, 673, 1030], [369, 838], [14, 526, 622, 731, 938, 971, 1019, 1049], [315, 522, 537], [15, 103, 168, 384, 551, 940]]\n"
          ]
        }
      ],
      "source": [
        "noMatchLists = []\n",
        "for i in range(0,5):\n",
        "    noMatchList = []\n",
        "\n",
        "    for j in range(0,len(testDFs[i])):\n",
        "        instance = testDFs[i].iloc[j]\n",
        "        instanceReshaped = np.asarray(instance).reshape(1,len(instance))\n",
        "\n",
        "        rawFeatureMatch, rawLabelMatch = classifiersRaw[i].caseExplanation(testDFs[i].iloc[j], \"<NAME>\", silent=True)\n",
        "        procFeatureMatch, procLabelMatch = classifiersProc[i].caseExplanation(testDFs[i].iloc[j], \"<NAME>\", silent=True)\n",
        "\n",
        "        if rawFeatureMatch == 0 or procFeatureMatch == 0:\n",
        "            noMatchList.append(j)\n",
        "\n",
        "    noMatchLists.append(noMatchList)\n",
        "\n",
        "print(noMatchLists)\n",
        "'''\n",
        "for i in range(0,len(noMatchLists)):\n",
        "    for j in noMatchLists[i]:\n",
        "        instance = testDFs[i].iloc[j]\n",
        "        instanceReshaped = np.asarray(instance).reshape(1,len(instance))\n",
        "\n",
        "        #print \"RAW confidence\", max(classifiersRaw[i].classifier.predict_proba(instanceReshaped)[0])\n",
        "        classifiersRaw[i].caseExplanation(testDFs[i].iloc[j], \"<NAME>\")\n",
        "        classifiersProc[i].caseExplanation(testDFs[i].iloc[j], \"<NAME>\")\n",
        "        print\n",
        "#''' and None"
      ]
    },
    {
      "cell_type": "markdown",
      "metadata": {
        "id": "lbR-P21xziEQ"
      },
      "source": [
        "Determine the set of instances with disparate impact in the PROCESSED data classifier (flipping protected bit flips outcome)"
      ]
    },
    {
      "cell_type": "code",
      "execution_count": null,
      "metadata": {
        "id": "agq-eDGrziEQ",
        "colab": {
          "base_uri": "https://localhost:8080/"
        },
        "outputId": "d3f5a80c-44b8-4407-f7e4-03d225aba9bc"
      },
      "outputs": [
        {
          "output_type": "stream",
          "name": "stdout",
          "text": [
            "[[], [6, 68, 133, 166, 182, 227, 276, 340, 346, 412, 416, 425, 501, 515, 527, 548, 565, 578, 608, 641, 642, 675, 680, 779, 799, 802, 813, 862, 875, 913, 950, 963, 1004, 1015, 1054], [], [74, 311, 629], [224, 359, 391, 772, 849, 868, 896, 905, 965]]\n"
          ]
        }
      ],
      "source": [
        "procDispImpactLists = [[],[],[],[],[]]\n",
        "\n",
        "for i in range(0,5):\n",
        "    for j in range(0,len(testDFs[i])):\n",
        "        instance = testDFs[i].iloc[j]\n",
        "        instanceReshaped = np.asarray(instance).reshape(1,len(instance))\n",
        "        perturbed = deepcopy(instanceReshaped)\n",
        "\n",
        "        # currently, the protected bit is first and we only have 1 feature in D. Flip that bit\n",
        "        if perturbed[0][0] == 1:\n",
        "            perturbed[0][0] = 0\n",
        "        else:\n",
        "            perturbed[0][0] = 1\n",
        "\n",
        "        firstPrediction = classifiersProc[i].classifier.predict(instanceReshaped)\n",
        "        perturbedPrediction = classifiersProc[i].classifier.predict(perturbed)\n",
        "\n",
        "        if firstPrediction != perturbedPrediction:\n",
        "            procDispImpactLists[i].append(j)\n",
        "\n",
        "print(procDispImpactLists)\n",
        "'''\n",
        "for i in range(0,len(procDispImpactLists)):\n",
        "    for j in procDispImpactLists[i]:\n",
        "        classifiersRaw[i].sensitivityExplanation(testDFs[i].iloc[j], \"<NAME>\")\n",
        "        classifiersProc[i].sensitivityExplanation(testDFs[i].iloc[j], \"<NAME>\")\n",
        "        print\n",
        "''' and None"
      ]
    },
    {
      "cell_type": "markdown",
      "metadata": {
        "id": "KpdSyaQCziER"
      },
      "source": [
        "Determine the set of instances with disparate impact in the RAW data classifier (flipping protected bit flips outcome)"
      ]
    },
    {
      "cell_type": "code",
      "execution_count": null,
      "metadata": {
        "id": "nfmMY-eMziER",
        "colab": {
          "base_uri": "https://localhost:8080/"
        },
        "outputId": "2f3a8299-244b-4fea-ea13-68968a4e3703"
      },
      "outputs": [
        {
          "output_type": "stream",
          "name": "stdout",
          "text": [
            "[[120, 153, 318, 325, 329, 330, 425, 438, 628, 718, 740, 807, 952, 992, 1042], [104, 130, 164, 294, 336, 467, 628, 658, 686, 742, 750, 840, 893, 922, 1029], [65, 110, 162, 231, 286, 361, 400, 421, 607, 621, 901, 905, 1010], [14, 15, 69, 74, 147, 174, 193, 208, 221, 311, 315, 327, 340, 341, 356, 360, 365, 368, 442, 465, 533, 537, 574, 579, 614, 626, 629, 652, 753, 776, 801, 808, 898, 920, 944, 948, 1031, 1048], [51, 224, 246, 338, 350, 359, 391, 408, 722, 738, 772, 828, 849, 868, 905, 965]]\n"
          ]
        }
      ],
      "source": [
        "rawDispImpactLists = [[],[],[],[],[]]\n",
        "\n",
        "for i in range(0,5):\n",
        "    for j in range(0,len(testDFs[i])):\n",
        "        instance = testDFs[i].iloc[j]\n",
        "        instanceReshaped = np.asarray(instance).reshape(1,len(instance))\n",
        "        perturbed = deepcopy(instanceReshaped)\n",
        "\n",
        "        # currently, the gender bit is first and we only have 1 feature in D. Flip that bit\n",
        "        if perturbed[0][0] == 1:\n",
        "            perturbed[0][0] = 0\n",
        "        else:\n",
        "            perturbed[0][0] = 1\n",
        "\n",
        "        firstPrediction = classifiersRaw[i].classifier.predict(instanceReshaped)\n",
        "        perturbedPrediction = classifiersRaw[i].classifier.predict(perturbed)\n",
        "\n",
        "        if firstPrediction != perturbedPrediction:\n",
        "            rawDispImpactLists[i].append(j)\n",
        "\n",
        "print(rawDispImpactLists)\n",
        "'''\n",
        "for i in range(0,len(rawDispImpactLists)):\n",
        "    for j in rawDispImpactLists[i]:\n",
        "        classifiersRaw[i].sensitivityExplanation(testDFs[i].iloc[j], \"<NAME>\")\n",
        "        classifiersProc[i].sensitivityExplanation(testDFs[i].iloc[j], \"<NAME>\")\n",
        "        print\n",
        "#''' and None"
      ]
    },
    {
      "cell_type": "markdown",
      "metadata": {
        "id": "ut2uo6V2ziER"
      },
      "source": [
        "Determine the set of instances with individual fairness concerns (two classifiers disagree on prediction)"
      ]
    },
    {
      "cell_type": "code",
      "execution_count": null,
      "metadata": {
        "id": "ColnNF8TziES",
        "colab": {
          "base_uri": "https://localhost:8080/"
        },
        "outputId": "76587566-1c1a-4f52-bfaa-e4f78e8854b6"
      },
      "outputs": [
        {
          "output_type": "stream",
          "name": "stdout",
          "text": [
            "[[120, 325, 330, 360, 461, 494, 628, 717, 740, 807, 952, 973, 992, 998], [40, 68, 104, 130, 133, 148, 166, 172, 227, 243, 276, 294, 412, 420, 425, 467, 471, 494, 589, 608, 658, 680, 686, 750, 779, 802, 813, 840, 846, 893, 913, 963], [162, 400, 421, 607, 905, 1010], [15, 69, 74, 147, 221, 311, 442, 574, 626, 629, 753, 898, 920, 944, 1048], [193, 202, 212, 224, 338, 350, 359, 391, 408, 500, 715, 772, 828, 849, 851, 861, 868, 875, 879, 905, 923, 965, 989, 1053]]\n"
          ]
        }
      ],
      "source": [
        "indivFairnessList = []\n",
        "for i in range(0,5):\n",
        "    flippedPredListForThisSplit = []\n",
        "    # get lists of the raw predictions and subtract them\n",
        "    rawPredictions = classifiersRaw[i].classifier.predict(testDFs[i].values)\n",
        "    procPredictions = classifiersProc[i].classifier.predict(testDFs[i].values)\n",
        "    difference = rawPredictions - procPredictions\n",
        "\n",
        "    # now count the number of nonzero entries\n",
        "    flippedPredictions = 0\n",
        "    for j in range(0, len(difference)):\n",
        "        if difference[j] != 0:\n",
        "            flippedPredListForThisSplit.append(j)\n",
        "\n",
        "    indivFairnessList.append(flippedPredListForThisSplit)\n",
        "\n",
        "print(indivFairnessList)\n",
        "'''\n",
        "for i in range(0,len(indivFairnessList)):\n",
        "    for j in indivFairnessList[i]:\n",
        "        classifiersRaw[i].sensitivityExplanation(testDFs[i].iloc[j], \"<NAME>\")\n",
        "        classifiersProc[i].sensitivityExplanation(testDFs[i].iloc[j], \"<NAME>\")\n",
        "        print\n",
        "#''' and None"
      ]
    },
    {
      "cell_type": "markdown",
      "metadata": {
        "id": "EzNHGyGOziEU"
      },
      "source": [
        "Determine the set of instances with NULL sensitivity explanations (and thus are not interesting and should be stricken from the experiment)"
      ]
    },
    {
      "cell_type": "code",
      "execution_count": null,
      "metadata": {
        "id": "hNOK8dAdziEU",
        "colab": {
          "base_uri": "https://localhost:8080/"
        },
        "outputId": "81d12230-c0ac-4da5-e34b-09d8d3a6b357"
      },
      "outputs": [
        {
          "output_type": "stream",
          "name": "stdout",
          "text": [
            "[[35, 50, 101, 115, 168, 182, 208, 257, 266, 267, 292, 306, 308, 316, 328, 347, 379, 380, 382, 464, 534, 536, 578, 608, 618, 633, 638, 656, 657, 793, 814, 842, 865, 867, 871, 875, 879, 881, 953, 964, 980, 984, 997, 1014], [59, 121, 145, 215, 283, 291, 299, 343, 385, 395, 424, 446, 478, 479, 519, 524, 525, 531, 546, 550, 580, 587, 610, 624, 638, 653, 676, 708, 724, 741, 759, 766, 769, 795, 878, 894, 901, 915, 967, 977, 985, 991, 1024, 1045], [51, 63, 129, 137, 151, 178, 232, 276, 288, 307, 338, 390, 469, 483, 518, 687, 773, 804, 846, 1011], [4, 21, 37, 48, 54, 202, 229, 318, 321, 383, 390, 421, 467, 468, 527, 529, 541, 604, 609, 740, 869, 936, 985, 1032, 1034, 1051], [12, 27, 62, 64, 91, 93, 121, 153, 264, 266, 360, 390, 411, 416, 443, 445, 460, 467, 564, 565, 568, 679, 685, 728, 732, 753, 755, 797, 809, 832, 843, 950, 966]]\n"
          ]
        }
      ],
      "source": [
        "nullExpLists = []\n",
        "for i in range(0,5):\n",
        "    nullListHere = []\n",
        "    for j in range(0,len(testDFs[i])):\n",
        "        instance = testDFs[i].iloc[j]\n",
        "        instanceReshaped = np.asarray(instance).reshape(1,len(instance))\n",
        "\n",
        "        if not classifiersRaw[i].sensitivityExplanation(instance, \"<NAME>\", silent=True):\n",
        "            nullListHere.append(j)\n",
        "\n",
        "        elif not classifiersProc[i].sensitivityExplanation(instance, \"<NAME>\", silent=True):\n",
        "            nullListHere.append(j)\n",
        "    nullExpLists.append(nullListHere)\n",
        "\n",
        "print(nullExpLists)\n",
        "'''\n",
        "for i in range(0,len(nullExpLists)):\n",
        "    for j in nullExpLists[i]:\n",
        "        classifiersRaw[i].sensitivityExplanation(testDFs[i].iloc[j], \"<NAME>\")\n",
        "        classifiersProc[i].sensitivityExplanation(testDFs[i].iloc[j], \"<NAME>\")\n",
        "        print\n",
        "#''' and None"
      ]
    },
    {
      "cell_type": "markdown",
      "metadata": {
        "id": "7rVXmQYKziEV"
      },
      "source": [
        "Lets make lists for sampling!. We will take 5 groups\n",
        "- samples where the two classifiers differ on prediction (individual fairness) AND the RAW classifier is sensitive to the protected bit (disparate impact)\n",
        "- same as above, but for PROCESSED classifier\n",
        "- samples with individual fairness concerns ONLY\n",
        "- samples with RAW disparate impact ONLY\n",
        "- samples with PROCESSED disparate impact ONLY\n",
        "- samples with no disparate impact or individual fairness concerns"
      ]
    },
    {
      "cell_type": "code",
      "execution_count": null,
      "metadata": {
        "id": "aq4ftByXziEV",
        "colab": {
          "base_uri": "https://localhost:8080/"
        },
        "outputId": "26b013bd-2657-47ad-e4c8-977b292bff05"
      },
      "outputs": [
        {
          "output_type": "stream",
          "name": "stdout",
          "text": [
            "SPLIT# 0 ----------------------------------\n",
            "1056 Total\n",
            "44 null Explanations\n",
            "6 unfairONLYSet [973, 494, 998, 461, 717, 360]\n",
            "0 procImpactONLYSet []\n",
            "7 rawImpactONLYSet [425, 329, 153, 1042, 438, 718, 318]\n",
            "0 procBothSet []\n",
            "8 rawBothSet [628, 992, 330, 740, 952, 807, 325, 120]\n",
            "991 noneSet [666, 673]\n",
            "\n",
            "SPLIT# 1 ----------------------------------\n",
            "1056 Total\n",
            "44 null Explanations\n",
            "9 unfairONLYSet [420, 243, 846, 172, 148, 589, 494, 471, 40]\n",
            "21 procImpactONLYSet [675, 340, 1004, 548, 950, 1015, 346, 641, 501, 527, 862, 1054, 182, 565, 642, 6, 515, 578, 799, 416, 875]\n",
            "6 rawImpactONLYSet [922, 336, 742, 164, 1029, 628]\n",
            "14 procBothSet [425, 779, 802, 813, 133, 680, 68, 412, 227, 913, 963, 276, 166, 608]\n",
            "9 rawBothSet [750, 840, 686, 658, 893, 104, 467, 294, 130]\n",
            "953 noneSet [644, 630]\n",
            "\n",
            "SPLIT# 2 ----------------------------------\n",
            "1056 Total\n",
            "20 null Explanations\n",
            "0 unfairONLYSet []\n",
            "0 procImpactONLYSet []\n",
            "7 rawImpactONLYSet [65, 286, 361, 621, 901, 110, 231]\n",
            "0 procBothSet []\n",
            "6 rawBothSet [1010, 421, 162, 905, 607, 400]\n",
            "1023 noneSet [360, 28]\n",
            "\n",
            "SPLIT# 3 ----------------------------------\n",
            "1056 Total\n",
            "26 null Explanations\n",
            "0 unfairONLYSet []\n",
            "0 procImpactONLYSet []\n",
            "23 rawImpactONLYSet [193, 368, 533, 652, 579, 315, 356, 365, 327, 341, 14, 801, 465, 1031, 808, 776, 340, 174, 360, 948, 537, 208, 614]\n",
            "3 procBothSet [311, 629, 74]\n",
            "15 rawBothSet [311, 944, 574, 626, 629, 1048, 74, 753, 15, 442, 221, 920, 147, 898, 69]\n",
            "992 noneSet [905, 469]\n",
            "\n",
            "SPLIT# 4 ----------------------------------\n",
            "1056 Total\n",
            "33 null Explanations\n",
            "12 unfairONLYSet [875, 861, 851, 989, 202, 879, 715, 923, 193, 212, 1053, 500]\n",
            "1 procImpactONLYSet [896]\n",
            "4 rawImpactONLYSet [722, 246, 738, 51]\n",
            "8 procBothSet [224, 849, 391, 359, 965, 905, 868, 772]\n",
            "12 rawBothSet [350, 772, 359, 224, 868, 828, 408, 338, 905, 391, 849, 965]\n",
            "994 noneSet [606, 53]\n",
            "\n",
            "unfairONLYSample [[973, 494, 998, 461, 717, 360], [420, 243, 846, 172, 148, 589, 494, 471, 40], [], [], [875, 861, 851, 989, 202, 879, 715, 923, 193, 212, 1053, 500]]\n",
            "procImpactONLYSample [[], [675, 340, 1004, 548, 950, 1015, 346, 641, 501, 527, 862, 1054, 182, 565, 642, 6, 515, 578, 799, 416, 875], [], [], [896]]\n",
            "rawImpactONLYSample [[425, 329, 153, 1042, 438, 718, 318], [922, 336, 742, 164, 1029, 628], [65, 286, 361, 621, 901, 110, 231], [193, 368, 533, 652, 579, 315, 356, 365, 327, 341, 14, 801, 465, 1031, 808, 776, 340, 174, 360, 948, 537, 208, 614], [722, 246, 738, 51]]\n",
            "procBothSample [[], [425, 779, 802, 813, 133, 680, 68, 412, 227, 913, 963, 276, 166, 608], [], [311, 629, 74], [224, 849, 391, 359, 965, 905, 868, 772]]\n",
            "rawBothSample [[628, 992, 330, 740, 952, 807, 325, 120], [750, 840, 686, 658, 893, 104, 467, 294, 130], [1010, 421, 162, 905, 607, 400], [311, 944, 574, 626, 629, 1048, 74, 753, 15, 442, 221, 920, 147, 898, 69], [350, 772, 359, 224, 868, 828, 408, 338, 905, 391, 849, 965]]\n",
            "noneSample [[666, 673], [644, 630], [360, 28], [905, 469], [606, 53]]\n"
          ]
        }
      ],
      "source": [
        "import random\n",
        "drawIndivFairnessONLY = 10000\n",
        "drawProcImpactAndIndivFairness = 10000\n",
        "drawRawImpactAndIndivFairness = 10000\n",
        "drawProcImpactONLY = 10000\n",
        "drawRawImpactONLY = 10000\n",
        "drawNoImpactOrIndivFairness = 2\n",
        "\n",
        "unfairONLYSample = []\n",
        "procImpactONLYSample = []\n",
        "rawImpactONLYSample = []\n",
        "procBothSample = []\n",
        "rawBothSample = []\n",
        "noneSample = []\n",
        "\n",
        "random.seed(1739)\n",
        "\n",
        "# for each data split, determine our sampling pools via set difference, intersection, and union\n",
        "for i in range(0,5):\n",
        "    allList = range(0,len(testDFs[i]))\n",
        "    nullSet = set(nullExpLists[i])\n",
        "    nonNullSet = set(allList) - nullSet\n",
        "    unfairMaybeNullSet = set(indivFairnessList[i])\n",
        "    rawMaybeNullImpactSet = set(rawDispImpactLists[i])\n",
        "    procMaybeNullImpactSet = set(procDispImpactLists[i])\n",
        "\n",
        "    # None of these will contain NULL explanations for sensitivity because of the above construction\n",
        "    indivFairnessSet = unfairMaybeNullSet - nullSet\n",
        "    procImpactSet = procMaybeNullImpactSet - nullSet\n",
        "    rawImpactSet = rawMaybeNullImpactSet - nullSet\n",
        "\n",
        "    # These are the pools we will sample from\n",
        "    procBothSet = indivFairnessSet & procImpactSet\n",
        "    rawBothSet = indivFairnessSet & rawImpactSet\n",
        "    procImpactONLYSet = procImpactSet - procBothSet\n",
        "    rawImpactONLYSet = rawImpactSet - rawBothSet\n",
        "    unfairONLYSet = (indivFairnessSet - procBothSet) - rawBothSet\n",
        "    noneSet = nonNullSet - (indivFairnessSet | procImpactSet | rawImpactSet)\n",
        "\n",
        "    # Now convert sets to list, shuffle, and slice\n",
        "    unfairONLYSet = list(unfairONLYSet)\n",
        "    random.shuffle(unfairONLYSet)\n",
        "    unfairONLYSample.append(unfairONLYSet[-drawIndivFairnessONLY:])\n",
        "\n",
        "    procBothSet = list(procBothSet)\n",
        "    random.shuffle(procBothSet)\n",
        "    procBothSample.append(procBothSet[-drawProcImpactAndIndivFairness:])\n",
        "\n",
        "    rawBothSet = list(rawBothSet)\n",
        "    random.shuffle(rawBothSet)\n",
        "    rawBothSample.append(rawBothSet[-drawRawImpactAndIndivFairness:])\n",
        "\n",
        "    procImpactONLYSet = list(procImpactONLYSet)\n",
        "    random.shuffle(procImpactONLYSet)\n",
        "    procImpactONLYSample.append(procImpactONLYSet[-drawProcImpactONLY:])\n",
        "\n",
        "    rawImpactONLYSet = list(rawImpactONLYSet)\n",
        "    random.shuffle(rawImpactONLYSet)\n",
        "    rawImpactONLYSample.append(rawImpactONLYSet[-drawRawImpactONLY:])\n",
        "\n",
        "    noneSet = list(noneSet)\n",
        "    random.shuffle(noneSet)\n",
        "    noneSample.append(noneSet[-drawNoImpactOrIndivFairness:])\n",
        "\n",
        "    print(\"SPLIT#\", i, \"----------------------------------\")\n",
        "    print(len(allList), \"Total\" )\n",
        "    print(len(nullExpLists[i]), \"null Explanations\")\n",
        "    print(len(unfairONLYSet), \"unfairONLYSet\", unfairONLYSample[-1:][0])\n",
        "    print(len(procImpactONLYSet), \"procImpactONLYSet\", procImpactONLYSample[-1:][0])\n",
        "    print(len(rawImpactONLYSet), \"rawImpactONLYSet\", rawImpactONLYSample[-1:][0])\n",
        "    print(len(procBothSet), \"procBothSet\", procBothSample[-1:][0])\n",
        "    print(len(rawBothSet), \"rawBothSet\", rawBothSample[-1:][0])\n",
        "    print(len(noneSet), \"noneSet\", noneSample[-1:][0])\n",
        "    print()\n",
        "\n",
        "print(\"unfairONLYSample\", unfairONLYSample)\n",
        "print(\"procImpactONLYSample\", procImpactONLYSample)\n",
        "print(\"rawImpactONLYSample\", rawImpactONLYSample)\n",
        "print(\"procBothSample\", procBothSample)\n",
        "print(\"rawBothSample\", rawBothSample)\n",
        "print(\"noneSample\", noneSample)\n"
      ]
    },
    {
      "cell_type": "markdown",
      "source": [
        "QUESTION: Are the outcomes balanced? if not we need to place the decision threshold at a location other than .5 OR trim rows from the training set so that they are\n",
        "\n",
        "ANSWER: balanced enough!"
      ],
      "metadata": {
        "id": "q45yQCVoK4k0"
      }
    },
    {
      "cell_type": "code",
      "source": [
        "print(\"split\\tClass\\tTotalExamples\\t+Examples\\tFraction\")\n",
        "for i in range(0,5):\n",
        "    rawTotalExamples = len(classifiersRaw[i].trainLabels)\n",
        "    rawPositiveExamples = len(classifiersRaw[i].trainLabels.query('is_recid==1'))\n",
        "    print(i,\"\\tRAW\\t\", rawTotalExamples, \"\\t\", rawPositiveExamples, \"\\t\", float(rawPositiveExamples)/float(rawTotalExamples))\n",
        "\n",
        "    procTotalExamples = len(classifiersProc[i].trainLabels)\n",
        "    procPositiveExamples = len(classifiersProc[i].trainLabels.query('is_recid==1'))\n",
        "    print(i,\"\\tPROC\\t\", procTotalExamples, \"\\t\", procPositiveExamples, \"\\t\", float(procPositiveExamples)/float(procTotalExamples))\n"
      ],
      "metadata": {
        "colab": {
          "base_uri": "https://localhost:8080/"
        },
        "id": "T648AqutK22s",
        "outputId": "c5c4d100-76ac-4524-ba1d-a7cf32e1bc43"
      },
      "execution_count": null,
      "outputs": [
        {
          "output_type": "stream",
          "name": "stdout",
          "text": [
            "split\tClass\tTotalExamples\t+Examples\tFraction\n",
            "0 \tRAW\t 4222 \t 2110 \t 0.49976314542870676\n",
            "0 \tPROC\t 4222 \t 2098 \t 0.49692089057318806\n",
            "1 \tRAW\t 4222 \t 2099 \t 0.4971577451444813\n",
            "1 \tPROC\t 4222 \t 2084 \t 0.4936049265750829\n",
            "2 \tRAW\t 4222 \t 2132 \t 0.5049739459971577\n",
            "2 \tPROC\t 4222 \t 2153 \t 0.5099478919943154\n",
            "3 \tRAW\t 4222 \t 2094 \t 0.49597347228801514\n",
            "3 \tPROC\t 4222 \t 2085 \t 0.4938417811463761\n",
            "4 \tRAW\t 4222 \t 2117 \t 0.5014211274277593\n",
            "4 \tPROC\t 4222 \t 2105 \t 0.49857887257224065\n"
          ]
        }
      ]
    },
    {
      "cell_type": "markdown",
      "source": [
        "QUESTION: What fraction of test examples have non-null sensitivity explanations? How confident is the classifier in cases where the sensitivity explanation is NULL and in cases where it is not NULL (label for this is \"Exp\")\n",
        "\n",
        "Answer: Based on the average and MIN confidence scores for samples which had a NULL sensitivity explanation, \"If the explanation is NULL, the classifier is quite confident.\" However, based on the average and MAX scores for samples which had a non-NULL sensitivity explanation, the reverse implication does not hold.  Note how the max confidence scores for non-NULL explanations reaches up above 90%.  Might be worth making a box plot or histogram of these distributions"
      ],
      "metadata": {
        "id": "ZLXSLyF5LLkO"
      }
    },
    {
      "cell_type": "code",
      "source": [
        "print(\"Null Explanations and confidence range for Null/explained cases -- report\")\n",
        "print(\"Split\\tClassifier\\tFreq\\tPercentage\\t Avg Conf (NULL)\\t Min Conf (NULL)\\t Avg Conf (Exp)\\t Max Conf (Exp)\")\n",
        "for i in range(0,5):\n",
        "    rawNullConfidenceList = []\n",
        "    procNullConfidenceList = []\n",
        "    rawExpConfidenceList = []\n",
        "    procExpConfidenceList = []\n",
        "    for j in range(0,len(testDFs[i])):\n",
        "        instance = testDFs[i].iloc[j]\n",
        "        instanceReshaped = np.asarray(instance).reshape(1,len(instance))\n",
        "\n",
        "        # if the sensitivity explanation is NULL, append the confidence to one list, otherwise append to the other\n",
        "        if not classifiersRaw[i].sensitivityExplanation(instance, \"<NAME>\", silent=True):\n",
        "            rawNullConfidenceList.append(max(classifiersRaw[i].classifier.predict_proba(instanceReshaped)[0]))\n",
        "        else:\n",
        "            rawExpConfidenceList.append(max(classifiersRaw[i].classifier.predict_proba(instanceReshaped)[0]))\n",
        "\n",
        "        # same deal for the classifier trained on processed data\n",
        "        if not classifiersProc[i].sensitivityExplanation(instance, \"<NAME>\", silent=True):\n",
        "            procNullConfidenceList.append(max(classifiersProc[i].classifier.predict_proba(instanceReshaped)[0]))\n",
        "        else:\n",
        "            procExpConfidenceList.append(max(classifiersProc[i].classifier.predict_proba(instanceReshaped)[0]))\n",
        "\n",
        "    # print some summary statistics on that distribution of confidences\n",
        "    print(i, \"\\t*RAW*\\t\", len(rawNullConfidenceList), end=\"\\t\")\n",
        "    print(\"\\t\"+str(int(float(len(rawNullConfidenceList))/float(len(testDFs[i]))*100))+\"%\", end=\"\\t\")\n",
        "    if len(rawNullConfidenceList) != 0:\n",
        "        print(\"\\t\",str(int(sum(rawNullConfidenceList)/len(rawNullConfidenceList)*100))+\"%\", end=\"\\t\")\n",
        "        print(\"\\t\",str(int(min(rawNullConfidenceList)*100))+\"%\", end=\"\\t\")\n",
        "    else:\n",
        "        print(\"\\t0%\\t0%\", end=\"\\t\")\n",
        "\n",
        "    print(\"\\t\",str(int(sum(rawExpConfidenceList)/len(rawExpConfidenceList)*100))+\"%\", end=\"\\t\")\n",
        "    print(\"\\t\",str(int(max(rawExpConfidenceList)*100))+\"%\")\n",
        "\n",
        "    print(i, \"\\t*PROC*\\t\", len(procNullConfidenceList), end=\"\\t\")\n",
        "    print(\"\\t\"+str(int(float(len(procNullConfidenceList))/float(len(testDFs[i]))*100))+\"%\", end=\"\\t\")\n",
        "    if len(procNullConfidenceList) != 0:\n",
        "        print(\"\\t\",str(int(sum(procNullConfidenceList)/len(procNullConfidenceList)*100))+\"%\", end=\"\\t\")\n",
        "        print(\"\\t\",str(int(min(procNullConfidenceList)*100))+\"%\", end=\"\\t\")\n",
        "    else:\n",
        "        print(\"\\t0%\\t0%\", end=\"\\t\")\n",
        "    print(\"\\t\",str(int(sum(procExpConfidenceList)/len(procExpConfidenceList)*100))+\"%\", end=\"\\t\")\n",
        "    print(\"\\t\",str(int(max(procExpConfidenceList)*100))+\"%\")"
      ],
      "metadata": {
        "colab": {
          "base_uri": "https://localhost:8080/"
        },
        "id": "nV6yDoRmLMlX",
        "outputId": "ca077edc-0bb5-485c-8796-ee73d5f5df31"
      },
      "execution_count": null,
      "outputs": [
        {
          "output_type": "stream",
          "name": "stdout",
          "text": [
            "Null Explanations and confidence range for Null/explained cases -- report\n",
            "Split\tClassifier\tFreq\tPercentage\t Avg Conf (NULL)\t Min Conf (NULL)\t Avg Conf (Exp)\t Max Conf (Exp)\n",
            "0 \t*RAW*\t 44\t\t4%\t\t 85%\t\t 79%\t\t 66%\t\t 87%\n",
            "0 \t*PROC*\t 37\t\t3%\t\t 87%\t\t 82%\t\t 67%\t\t 89%\n",
            "1 \t*RAW*\t 38\t\t3%\t\t 87%\t\t 82%\t\t 66%\t\t 88%\n",
            "1 \t*PROC*\t 44\t\t4%\t\t 86%\t\t 77%\t\t 66%\t\t 89%\n",
            "2 \t*RAW*\t 20\t\t1%\t\t 89%\t\t 88%\t\t 66%\t\t 87%\n",
            "2 \t*PROC*\t 20\t\t1%\t\t 90%\t\t 88%\t\t 66%\t\t 88%\n",
            "3 \t*RAW*\t 19\t\t1%\t\t 90%\t\t 89%\t\t 66%\t\t 89%\n",
            "3 \t*PROC*\t 26\t\t2%\t\t 92%\t\t 91%\t\t 66%\t\t 87%\n",
            "4 \t*RAW*\t 28\t\t2%\t\t 90%\t\t 87%\t\t 66%\t\t 89%\n",
            "4 \t*PROC*\t 24\t\t2%\t\t 90%\t\t 87%\t\t 65%\t\t 87%\n"
          ]
        }
      ]
    },
    {
      "cell_type": "markdown",
      "source": [
        "How many exact matches are typical? Output will be in histograms, paired horizontally in terms of processed/raw classifier.  Vertical arrangement is given by the split."
      ],
      "metadata": {
        "id": "I1YVQu82P5YT"
      }
    },
    {
      "cell_type": "code",
      "source": [
        "print(\"Case-based explanation investigation: histogram for # exact feature matches  -- report\")\n",
        "for i in range(0,5):\n",
        "    matchList = []\n",
        "\n",
        "    for j in range(0,len(testDFs[i])):\n",
        "        instance = testDFs[i].iloc[j]\n",
        "        instanceReshaped = np.asarray(instance).reshape(1,len(instance))\n",
        "\n",
        "        rawFeatureMatch, _ = classifiersRaw[i].caseExplanation(testDFs[i].iloc[j], \"<NAME>\", silent=True)\n",
        "        procFeatureMatch, _ = classifiersProc[i].caseExplanation(testDFs[i].iloc[j], \"<NAME>\", silent=True)\n",
        "\n",
        "        matchList.append([\"raw\", rawFeatureMatch])\n",
        "        matchList.append([\"proc\", procFeatureMatch])\n",
        "\n",
        "    df = pd.DataFrame(matchList)\n",
        "\n",
        "    df.columns = ['classifier', 'match count']\n",
        "\n",
        "    ax = df.hist(by=\"classifier\", bins=10)\n",
        "    print()"
      ],
      "metadata": {
        "colab": {
          "base_uri": "https://localhost:8080/",
          "height": 1000
        },
        "id": "KdA6XhgMP97D",
        "outputId": "e05bbb83-bdc7-4f69-b1d1-ff39561f57c2"
      },
      "execution_count": null,
      "outputs": [
        {
          "output_type": "stream",
          "name": "stdout",
          "text": [
            "Case-based explanation investigation: histogram for # exact feature matches  -- report\n",
            "\n",
            "\n",
            "\n",
            "\n",
            "\n"
          ]
        },
        {
          "output_type": "display_data",
          "data": {
            "text/plain": [
              "<Figure size 640x480 with 2 Axes>"
            ],
            "image/png": "[encoded data removed]"
          },
          "metadata": {}
        },
        {
          "output_type": "display_data",
          "data": {
            "text/plain": [
              "<Figure size 640x480 with 2 Axes>"
            ],
            "image/png": "[encoded data removed]"
          },
          "metadata": {}
        },
        {
          "output_type": "display_data",
          "data": {
            "text/plain": [
              "<Figure size 640x480 with 2 Axes>"
            ],
            "image/png": "[encoded data removed]"
          },
          "metadata": {}
        },
        {
          "output_type": "display_data",
          "data": {
            "text/plain": [
              "<Figure size 640x480 with 2 Axes>"
            ],
            "image/png": "[encoded data removed]"
          },
          "metadata": {}
        },
        {
          "output_type": "display_data",
          "data": {
            "text/plain": [
              "<Figure size 640x480 with 2 Axes>"
            ],
            "image/png": "[encoded data removed]"
          },
          "metadata": {}
        }
      ]
    },
    {
      "cell_type": "markdown",
      "source": [
        "Notably, most of the case based explanations have >50% of those with exact feature match also being exact feature + label match.  However, there will be times when this sort of \"justification\" fails."
      ],
      "metadata": {
        "id": "LmoWy6Y2QWKA"
      }
    },
    {
      "cell_type": "code",
      "source": [
        "print(\"Case-based explanation investigation: histogram for % exact feature matches which have label == prediction -- report\")\n",
        "for i in range(0,5):\n",
        "    matchPercentList = []\n",
        "\n",
        "    for j in range(0,len(testDFs[i])):\n",
        "        instance = testDFs[i].iloc[j]\n",
        "        instanceReshaped = np.asarray(instance).reshape(1,len(instance))\n",
        "\n",
        "        rawFeatureMatch, rawLabelMatch = classifiersRaw[i].caseExplanation(testDFs[i].iloc[j], \"<NAME>\", silent=True)\n",
        "        procFeatureMatch, procLabelMatch = classifiersProc[i].caseExplanation(testDFs[i].iloc[j], \"<NAME>\", silent=True)\n",
        "\n",
        "        if rawFeatureMatch != 0:\n",
        "            matchPercentList.append([\"raw\", float(rawLabelMatch)/float(rawFeatureMatch)])\n",
        "        else:\n",
        "            matchPercentList.append([\"raw\", 0])\n",
        "        if procFeatureMatch != 0:\n",
        "            matchPercentList.append([\"proc\", float(procLabelMatch)/float(procFeatureMatch)])\n",
        "        else:\n",
        "            matchPercentList.append([\"proc\", 0])\n",
        "\n",
        "    df = pd.DataFrame(matchPercentList)\n",
        "\n",
        "    df.columns = ['classifier', 'match%']\n",
        "\n",
        "    ax = df.hist(by=\"classifier\", bins=10)"
      ],
      "metadata": {
        "colab": {
          "base_uri": "https://localhost:8080/",
          "height": 1000
        },
        "id": "Ff5DCCMRQZSf",
        "outputId": "9eb72a1d-ae96-4690-da4c-97588cf086fe"
      },
      "execution_count": null,
      "outputs": [
        {
          "output_type": "stream",
          "name": "stdout",
          "text": [
            "Case-based explanation investigation: histogram for % exact feature matches which have label == prediction -- report\n"
          ]
        },
        {
          "output_type": "display_data",
          "data": {
            "text/plain": [
              "<Figure size 640x480 with 2 Axes>"
            ],
            "image/png": "[encoded data removed]"
          },
          "metadata": {}
        },
        {
          "output_type": "display_data",
          "data": {
            "text/plain": [
              "<Figure size 640x480 with 2 Axes>"
            ],
            "image/png": "[encoded data removed]"
          },
          "metadata": {}
        },
        {
          "output_type": "display_data",
          "data": {
            "text/plain": [
              "<Figure size 640x480 with 2 Axes>"
            ],
            "image/png": "[encoded data removed]"
          },
          "metadata": {}
        },
        {
          "output_type": "display_data",
          "data": {
            "text/plain": [
              "<Figure size 640x480 with 2 Axes>"
            ],
            "image/png": "[encoded data removed]"
          },
          "metadata": {}
        },
        {
          "output_type": "display_data",
          "data": {
            "text/plain": [
              "<Figure size 640x480 with 2 Axes>"
            ],
            "image/png": "[encoded data removed]"
          },
          "metadata": {}
        }
      ]
    },
    {
      "cell_type": "markdown",
      "source": [
        "How does applying the preprocess impact confidences? Perhaps it move points away/closer to the decision boundary?\n",
        "\n",
        "Answer, appears to adjust things with no discernable pattern."
      ],
      "metadata": {
        "id": "owWu76awQfAT"
      }
    },
    {
      "cell_type": "code",
      "source": [
        "print(\"Confidence histograms -- report\")\n",
        "for i in range(0,5):\n",
        "    confList = []\n",
        "    for j in range(0,len(testDFs[i])):\n",
        "        instance = testDFs[i].iloc[j]\n",
        "        instanceReshaped = np.asarray(instance).reshape(1,len(instance))\n",
        "\n",
        "        rawConfidence = max(classifiersRaw[i].classifier.predict_proba(instanceReshaped)[0])\n",
        "        procConfidence = max(classifiersProc[i].classifier.predict_proba(instanceReshaped)[0])\n",
        "\n",
        "        confList.append([\"raw\", rawConfidence])\n",
        "        confList.append([\"proc\", procConfidence])\n",
        "\n",
        "    df = pd.DataFrame(confList)\n",
        "    df.columns = ['classifier', 'confidence']\n",
        "\n",
        "    #print df\n",
        "    ax = df.hist(by=\"classifier\", bins=10)"
      ],
      "metadata": {
        "colab": {
          "base_uri": "https://localhost:8080/",
          "height": 1000
        },
        "id": "YQY0heRGQjZS",
        "outputId": "18be67a1-9e19-4d8e-8a8d-7454bab522b8"
      },
      "execution_count": null,
      "outputs": [
        {
          "output_type": "stream",
          "name": "stdout",
          "text": [
            "Confidence histograms -- report\n"
          ]
        },
        {
          "output_type": "display_data",
          "data": {
            "text/plain": [
              "<Figure size 640x480 with 2 Axes>"
            ],
            "image/png": "[encoded data removed]"
          },
          "metadata": {}
        },
        {
          "output_type": "display_data",
          "data": {
            "text/plain": [
              "<Figure size 640x480 with 2 Axes>"
            ],
            "image/png": "[encoded data removed]"
          },
          "metadata": {}
        },
        {
          "output_type": "display_data",
          "data": {
            "text/plain": [
              "<Figure size 640x480 with 2 Axes>"
            ],
            "image/png": "[encoded data removed]"
          },
          "metadata": {}
        },
        {
          "output_type": "display_data",
          "data": {
            "text/plain": [
              "<Figure size 640x480 with 2 Axes>"
            ],
            "image/png": "[encoded data removed]"
          },
          "metadata": {}
        },
        {
          "output_type": "display_data",
          "data": {
            "text/plain": [
              "<Figure size 640x480 with 2 Axes>"
            ],
            "image/png": "[encoded data removed]"
          },
          "metadata": {}
        }
      ]
    },
    {
      "cell_type": "code",
      "source": [],
      "metadata": {
        "id": "VuYkSTcTDxDj"
      },
      "execution_count": null,
      "outputs": []
    }
  ],
  "metadata": {
    "anaconda-cloud": {},
    "kernelspec": {
      "display_name": "Python 2",
      "language": "python",
      "name": "python2"
    },
    "language_info": {
      "codemirror_mode": {
        "name": "ipython",
        "version": 2
      },
      "file_extension": ".py",
      "mimetype": "text/x-python",
      "name": "python",
      "nbconvert_exporter": "python",
      "pygments_lexer": "ipython2",
      "version": "2.7.15"
    },
    "latex_envs": {
      "bibliofile": "biblio.bib",
      "cite_by": "apalike",
      "current_citInitial": 1,
      "eqLabelWithNumbers": true,
      "eqNumInitial": 0
    },
    "colab": {
      "provenance": []
    }
  },
  "nbformat": 4,
  "nbformat_minor": 0
}